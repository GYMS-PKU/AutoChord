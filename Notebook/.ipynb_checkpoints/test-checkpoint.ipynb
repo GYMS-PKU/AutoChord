{
 "cells": [
  {
   "cell_type": "code",
   "execution_count": 1,
   "metadata": {},
   "outputs": [],
   "source": [
    "import numpy as np\n",
    "import pandas as pd\n",
    "import pypianoroll as pr\n",
    "import matplotlib.pyplot as plt\n",
    "import importlib\n",
    "import json\n",
    "import xml.etree.ElementTree as ET\n",
    "import os\n",
    "import sys\n",
    "import pickle\n",
    "from time import time\n",
    "\n",
    "import torch\n",
    "from torch import nn\n",
    "import numpy as np\n",
    "from torch.nn import functional as F\n",
    "from torch.nn.utils.rnn import pack_padded_sequence, pad_packed_sequence\n",
    "from torch.autograd import Variable"
   ]
  },
  {
   "cell_type": "markdown",
   "metadata": {},
   "source": [
    "#### 读取数据"
   ]
  },
  {
   "cell_type": "code",
   "execution_count": 2,
   "metadata": {
    "scrolled": true
   },
   "outputs": [
    {
     "name": "stdout",
     "output_type": "stream",
     "text": [
      "reading chord_num_dic\n",
      "reading num_chord_dic\n",
      "reading double_compressed_data\n"
     ]
    }
   ],
   "source": [
    "sys.path.append('..')\n",
    "import dataloader\n",
    "#importlib.reload(dataloader)\n",
    "import model\n",
    "#importlib.reload(model)\n",
    "from dataloader import DataLoader\n",
    "#importlib.reload(DataLoader)\n",
    "from model.DeepModel import * \n",
    "#importlib.reload(model.DeepModel)\n",
    "DL = DataLoader.DataLoader(device='cpu')\n",
    "# DL.process_raw_data()"
   ]
  },
  {
   "cell_type": "markdown",
   "metadata": {},
   "source": [
    "#### 统计所有和弦数目，出现的三和弦数目以及全部使用三和弦的样本数"
   ]
  },
  {
   "cell_type": "code",
   "execution_count": 3,
   "metadata": {},
   "outputs": [
    {
     "name": "stdout",
     "output_type": "stream",
     "text": [
      "306469\n",
      "220889\n",
      "5155\n"
     ]
    }
   ],
   "source": [
    "total = 0  # 出现的和弦总数\n",
    "triad_num = 0  # 三和弦总数\n",
    "triad_num_dic = {i:0 for i in DL.chord_num_dic.keys()}\n",
    "triad_sample_num = 0 # 全部使用三和弦的样本数\n",
    "triad_samples = []\n",
    "for sample in DL.double_compressed_data:\n",
    "    sample_copy = sample.copy()\n",
    "    melody = sample['melody']\n",
    "    chord = sample['chord']\n",
    "    t = True\n",
    "    for i in range(len(melody)):\n",
    "        total += 1\n",
    "        try:\n",
    "            DL.chord_num_dic[chord[i]]\n",
    "            triad_num_dic[chord[i]] += 1\n",
    "            triad_num += 1\n",
    "        except:\n",
    "            if len(chord[i]) < 3:\n",
    "                for c in DL.chord_num_dic.keys():\n",
    "                    if melody[i] not in c:\n",
    "                        continue\n",
    "                    for k in chord[i]:\n",
    "                        if k not in c:\n",
    "                            break\n",
    "                    else:\n",
    "                        sample_copy['chord'][i] = c\n",
    "                        triad_num_dic[c] += 1\n",
    "                        triad_num += 1\n",
    "                        break\n",
    "                else:\n",
    "                    t = False\n",
    "            else:\n",
    "                t = False\n",
    "                pass\n",
    "    if t:\n",
    "        triad_samples.append(sample_copy)\n",
    "        triad_sample_num += 1\n",
    "\n",
    "print(total)\n",
    "print(triad_num)\n",
    "print(triad_sample_num)"
   ]
  },
  {
   "cell_type": "code",
   "execution_count": 4,
   "metadata": {},
   "outputs": [
    {
     "name": "stdout",
     "output_type": "stream",
     "text": [
      "10000 valid train_data\n",
      "20000 valid train_data\n",
      "30000 valid train_data\n",
      "40000 valid train_data\n",
      "50000 valid train_data\n",
      "60000 valid train_data\n",
      "total 61380 valid train_data\n"
     ]
    }
   ],
   "source": [
    "DL.get_train_data(min_length=1, write_cache=False, valid_compressed_data=triad_samples)"
   ]
  },
  {
   "cell_type": "code",
   "execution_count": 33,
   "metadata": {},
   "outputs": [],
   "source": [
    "device = 'cuda'\n",
    "model = ChordLstmNet(chord_num=39, melody_keys=12, hidden_size=128, num_layers=2, bidirectional=False,\n",
    "                 alpha=0.2, device=device).to(device)\n",
    "optimizer = torch.optim.Adam(model.parameters(), lr=1e-3, weight_decay=1e-3)"
   ]
  },
  {
   "cell_type": "code",
   "execution_count": null,
   "metadata": {
    "scrolled": true
   },
   "outputs": [],
   "source": [
    "train_loss = []\n",
    "test_loss = []\n",
    "train_data = DL.train_data[:40000]\n",
    "test_data = DL.train_data[40000:]\n",
    "epochs = 40\n",
    "batch_size = 1000\n",
    "for epoch in range(epochs):\n",
    "    num = 0 \n",
    "    loss = 0\n",
    "    t = time()\n",
    "    model.train()\n",
    "    for sample in train_data:\n",
    "        if num < batch_size:\n",
    "            a = sample[0].unsqueeze(0).to(device)\n",
    "            b = sample[1].unsqueeze(0).to(device)\n",
    "            c = sample[2].unsqueeze(0).to(device)\n",
    "            out = model(a,b,c)\n",
    "            loss += F.nll_loss(out, sample[3].unsqueeze(0).to(device))\n",
    "            num += 1\n",
    "        else:\n",
    "            num = 0\n",
    "            loss /= batch_size\n",
    "            print('loss: {:.4f} time used: {:.4f}s'.format(loss, time()-t))\n",
    "            train_loss.append(float(loss.detach().to('cpu')))\n",
    "            loss.backward()\n",
    "            loss = 0\n",
    "            optimizer.step()\n",
    "            optimizer.zero_grad()\n",
    "            t = time()\n",
    "    print('epoch {} testing'.format(epoch))\n",
    "    loss = 0\n",
    "    model.eval()\n",
    "    for sample in test_data:\n",
    "\n",
    "        a = sample[0].unsqueeze(0).to(device)\n",
    "        b = sample[1].unsqueeze(0).to(device)\n",
    "        c = sample[2].unsqueeze(0).to(device)\n",
    "        out = model(a,b,c)\n",
    "        loss += F.nll_loss(out, sample[3].unsqueeze(0).to(device))\n",
    "\n",
    "    loss /= len(test_data)\n",
    "    test_loss.append(float(loss.detach().to('cpu')))\n",
    "    print('test loss: {:.4f} time used: {:.4f}s'.format(loss, time()-t))"
   ]
  },
  {
   "cell_type": "code",
   "execution_count": 32,
   "metadata": {
    "scrolled": true
   },
   "outputs": [
    {
     "data": {
      "text/plain": [
       "974.814208984375"
      ]
     },
     "execution_count": 32,
     "metadata": {},
     "output_type": "execute_result"
    }
   ],
   "source": [
    "float(loss.detach().to('cpu'))"
   ]
  },
  {
   "cell_type": "code",
   "execution_count": null,
   "metadata": {},
   "outputs": [],
   "source": []
  }
 ],
 "metadata": {
  "kernelspec": {
   "display_name": "Python 3",
   "language": "python",
   "name": "python3"
  },
  "language_info": {
   "codemirror_mode": {
    "name": "ipython",
    "version": 3
   },
   "file_extension": ".py",
   "mimetype": "text/x-python",
   "name": "python",
   "nbconvert_exporter": "python",
   "pygments_lexer": "ipython3",
   "version": "3.8.5"
  }
 },
 "nbformat": 4,
 "nbformat_minor": 4
}
