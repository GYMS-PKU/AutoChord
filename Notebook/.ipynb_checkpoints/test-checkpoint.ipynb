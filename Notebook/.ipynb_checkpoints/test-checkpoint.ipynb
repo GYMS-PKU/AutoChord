{
 "cells": [
  {
   "cell_type": "code",
   "execution_count": 12,
   "metadata": {},
   "outputs": [],
   "source": [
    "import numpy as np\n",
    "import pandas as pd\n",
    "import pypianoroll as pr\n",
    "import matplotlib.pyplot as plt\n",
    "import importlib\n",
    "import json\n",
    "import xml.etree.ElementTree as ET\n",
    "import os\n",
    "import sys\n",
    "import pickle"
   ]
  },
  {
   "cell_type": "markdown",
   "metadata": {},
   "source": [
    "#### 读取数据"
   ]
  },
  {
   "cell_type": "code",
   "execution_count": 13,
   "metadata": {
    "scrolled": true
   },
   "outputs": [
    {
     "name": "stdout",
     "output_type": "stream",
     "text": [
      "reading chord_num_dic\n",
      "reading num_chord_dic\n",
      "reading double_compressed_data\n"
     ]
    }
   ],
   "source": [
    "sys.path.append('..')\n",
    "import dataloader\n",
    "importlib.reload(dataloader)\n",
    "from dataloader import DataLoader\n",
    "importlib.reload(DataLoader)\n",
    "DL = DataLoader.DataLoader(device='cpu')\n",
    "# DL.process_raw_data()"
   ]
  },
  {
   "cell_type": "markdown",
   "metadata": {},
   "source": [
    "#### 统计所有和弦数目，出现的三和弦数目以及全部使用三和弦的样本数"
   ]
  },
  {
   "cell_type": "code",
   "execution_count": 7,
   "metadata": {},
   "outputs": [
    {
     "name": "stdout",
     "output_type": "stream",
     "text": [
      "306469\n",
      "220889\n",
      "5155\n"
     ]
    }
   ],
   "source": [
    "total = 0  # 出现的和弦总数\n",
    "triad_num = 0  # 三和弦总数\n",
    "triad_num_dic = {i:0 for i in DL.chord_num_dic.keys()}\n",
    "triad_sample_num = 0 # 全部使用三和弦的样本数\n",
    "triad_samples = []\n",
    "for sample in DL.double_compressed_data:\n",
    "    sample_copy = sample.copy()\n",
    "    melody = sample['melody']\n",
    "    chord = sample['chord']\n",
    "    t = True\n",
    "    for i in range(len(melody)):\n",
    "        total += 1\n",
    "        try:\n",
    "            DL.chord_num_dic[chord[i]]\n",
    "            triad_num_dic[chord[i]] += 1\n",
    "            triad_num += 1\n",
    "        except:\n",
    "            if len(chord[i]) < 3:\n",
    "                for c in DL.chord_num_dic.keys():\n",
    "                    if melody[i] not in c:\n",
    "                        continue\n",
    "                    for k in chord[i]:\n",
    "                        if k not in c:\n",
    "                            break\n",
    "                    else:\n",
    "                        sample_copy['chord'][i] = c\n",
    "                        triad_num_dic[c] += 1\n",
    "                        triad_num += 1\n",
    "                        break\n",
    "                else:\n",
    "                    t = False\n",
    "            else:\n",
    "                t = False\n",
    "                pass\n",
    "    if t:\n",
    "        triad_samples.append(sample_copy)\n",
    "        triad_sample_num += 1\n",
    "\n",
    "print(total)\n",
    "print(triad_num)\n",
    "print(triad_sample_num)"
   ]
  },
  {
   "cell_type": "code",
   "execution_count": 14,
   "metadata": {
    "collapsed": true
   },
   "outputs": [
    {
     "name": "stdout",
     "output_type": "stream",
     "text": [
      "1000 valid train_data\n",
      "2000 valid train_data\n",
      "3000 valid train_data\n",
      "4000 valid train_data\n",
      "5000 valid train_data\n",
      "6000 valid train_data\n",
      "7000 valid train_data\n",
      "8000 valid train_data\n",
      "9000 valid train_data\n",
      "10000 valid train_data\n",
      "11000 valid train_data\n",
      "12000 valid train_data\n",
      "13000 valid train_data\n",
      "14000 valid train_data\n",
      "15000 valid train_data\n",
      "16000 valid train_data\n",
      "17000 valid train_data\n",
      "18000 valid train_data\n",
      "19000 valid train_data\n",
      "20000 valid train_data\n",
      "21000 valid train_data\n",
      "22000 valid train_data\n",
      "23000 valid train_data\n",
      "24000 valid train_data\n",
      "25000 valid train_data\n",
      "26000 valid train_data\n",
      "27000 valid train_data\n",
      "28000 valid train_data\n",
      "29000 valid train_data\n",
      "30000 valid train_data\n",
      "31000 valid train_data\n",
      "32000 valid train_data\n",
      "33000 valid train_data\n",
      "34000 valid train_data\n",
      "35000 valid train_data\n",
      "36000 valid train_data\n",
      "37000 valid train_data\n",
      "38000 valid train_data\n",
      "39000 valid train_data\n",
      "40000 valid train_data\n",
      "41000 valid train_data\n",
      "42000 valid train_data\n",
      "43000 valid train_data\n",
      "44000 valid train_data\n",
      "45000 valid train_data\n",
      "46000 valid train_data\n",
      "47000 valid train_data\n",
      "48000 valid train_data\n",
      "49000 valid train_data\n",
      "50000 valid train_data\n",
      "51000 valid train_data\n",
      "52000 valid train_data\n",
      "53000 valid train_data\n",
      "54000 valid train_data\n",
      "55000 valid train_data\n",
      "56000 valid train_data\n",
      "57000 valid train_data\n",
      "58000 valid train_data\n",
      "59000 valid train_data\n",
      "60000 valid train_data\n",
      "61000 valid train_data\n",
      "total 61380 valid train_data\n"
     ]
    }
   ],
   "source": [
    "DL.get_train_data(min_length=1, write_cache=False, valid_compressed_data=triad_samples)"
   ]
  },
  {
   "cell_type": "code",
   "execution_count": 15,
   "metadata": {},
   "outputs": [
    {
     "data": {
      "text/plain": [
       "(tensor([[1., 0., 0., 0., 0., 0., 0., 0., 0., 0., 0., 0., 0., 0., 0., 0., 0., 0.,\n",
       "          0., 0., 0., 0., 0., 0., 0., 0., 0., 0., 0., 0., 0., 0., 0., 0., 0., 0.,\n",
       "          0., 0., 0.],\n",
       "         [1., 0., 0., 0., 0., 0., 0., 0., 0., 0., 0., 0., 0., 0., 0., 0., 0., 0.,\n",
       "          0., 0., 0., 0., 0., 0., 0., 0., 0., 0., 0., 0., 0., 0., 0., 0., 0., 0.,\n",
       "          0., 0., 0.]]),\n",
       " tensor([[0., 0., 0., 0., 0., 0., 0., 1., 0., 0., 0., 0.],\n",
       "         [1., 0., 0., 0., 0., 0., 0., 0., 0., 0., 0., 0.]]),\n",
       " tensor([0., 0., 1., 0., 0., 0., 0., 0., 0., 0., 0., 0.]),\n",
       " tensor([0., 0., 0., 0., 0., 0., 0., 0., 0., 1., 0., 0., 0., 0., 0., 0., 0., 0.,\n",
       "         0., 0., 0., 0., 0., 0., 0., 0., 0., 0., 0., 0., 0., 0., 0., 0., 0., 0.,\n",
       "         0., 0., 0.]))"
      ]
     },
     "execution_count": 15,
     "metadata": {},
     "output_type": "execute_result"
    }
   ],
   "source": [
    "DL.train_data[1]"
   ]
  },
  {
   "cell_type": "code",
   "execution_count": null,
   "metadata": {},
   "outputs": [],
   "source": []
  }
 ],
 "metadata": {
  "kernelspec": {
   "display_name": "Python 3",
   "language": "python",
   "name": "python3"
  },
  "language_info": {
   "codemirror_mode": {
    "name": "ipython",
    "version": 3
   },
   "file_extension": ".py",
   "mimetype": "text/x-python",
   "name": "python",
   "nbconvert_exporter": "python",
   "pygments_lexer": "ipython3",
   "version": "3.8.5"
  }
 },
 "nbformat": 4,
 "nbformat_minor": 4
}
