{
 "cells": [
  {
   "cell_type": "code",
   "execution_count": 1,
   "metadata": {},
   "outputs": [],
   "source": [
    "import numpy as np\n",
    "import pandas as pd\n",
    "import pypianoroll as pr\n",
    "import matplotlib.pyplot as plt\n",
    "import importlib\n",
    "import json\n",
    "import xml.etree.ElementTree as ET\n",
    "import os\n",
    "import sys\n",
    "import pickle\n",
    "from time import time\n",
    "\n",
    "import torch\n",
    "from torch import nn\n",
    "import numpy as np\n",
    "from torch.nn import functional as F\n",
    "from torch.nn.utils.rnn import pack_padded_sequence, pad_packed_sequence\n",
    "from torch.autograd import Variable"
   ]
  },
  {
   "cell_type": "markdown",
   "metadata": {},
   "source": [
    "#### 读取数据"
   ]
  },
  {
   "cell_type": "code",
   "execution_count": 2,
   "metadata": {
    "scrolled": false
   },
   "outputs": [
    {
     "name": "stdout",
     "output_type": "stream",
     "text": [
      "reading global_chord_num_dic\n",
      "reading global_num_chord_dic\n",
      "reading global_num_chord_one_hot_dic\n",
      "reading double_compressed_data\n"
     ]
    }
   ],
   "source": [
    "sys.path.append('..')\n",
    "import dataloader\n",
    "importlib.reload(dataloader)\n",
    "import model\n",
    "#importlib.reload(model)\n",
    "from dataloader import DataLoader\n",
    "importlib.reload(DataLoader)\n",
    "from model.DeepModel import * \n",
    "#importlib.reload(model.DeepModel)\n",
    "DL = DataLoader.DataLoader(device='cpu')\n",
    "# DL.process_raw_data()"
   ]
  },
  {
   "cell_type": "code",
   "execution_count": 4,
   "metadata": {
    "scrolled": false
   },
   "outputs": [
    {
     "name": "stdout",
     "output_type": "stream",
     "text": [
      "reading global_chord_num_dic\n",
      "reading global_num_chord_dic\n",
      "reading global_num_chord_one_hot_dic\n",
      "reading double_compressed_data\n"
     ]
    }
   ],
   "source": [
    "import AutoChord\n",
    "importlib.reload(AutoChord)\n",
    "from AutoChord import AutoChord\n",
    "importlib.reload(AutoChord)\n",
    "AC = AutoChord.AutoChord()"
   ]
  },
  {
   "cell_type": "markdown",
   "metadata": {},
   "source": [
    "#### 马尔科夫链训练以及评估nll_loss"
   ]
  },
  {
   "cell_type": "markdown",
   "metadata": {},
   "source": [
    "#### 小调"
   ]
  },
  {
   "cell_type": "code",
   "execution_count": 16,
   "metadata": {},
   "outputs": [
    {
     "name": "stdout",
     "output_type": "stream",
     "text": [
      "total 9928 valid train_data\n"
     ]
    }
   ],
   "source": [
    "DL.get_train_data(min_length=1, write_cache=False, \n",
    "                  valid_compressed_data=triad_samples['minor'],\n",
    "                  tonic='minor')"
   ]
  },
  {
   "cell_type": "code",
   "execution_count": 17,
   "metadata": {},
   "outputs": [],
   "source": [
    "AC.get_model(model_name='markov')\n",
    "AC.fit(DL.train_data[:7000])"
   ]
  },
  {
   "cell_type": "code",
   "execution_count": 21,
   "metadata": {},
   "outputs": [
    {
     "name": "stdout",
     "output_type": "stream",
     "text": [
      "IS: 2.0865\n",
      "OS: 1.9961\n"
     ]
    }
   ],
   "source": [
    "loss = 0\n",
    "for sample in DL.train_data[:7000]:\n",
    "    i = np.argsort(sample[0][-1].numpy())[-1]\n",
    "    tar = sample[3].numpy()\n",
    "    loss -= np.log(AC.model.transition_matrix[i][tar])\n",
    "loss /= len(DL.train_data[:7000])\n",
    "print('IS: {:.4f}'.format(loss))\n",
    "\n",
    "for sample in DL.train_data[7000:]:\n",
    "    i = np.argsort(sample[0][-1].numpy())[-1]\n",
    "    tar = sample[3].numpy()\n",
    "    if AC.model.transition_matrix[i][tar] == 0:\n",
    "        # print(i,tar)\n",
    "        continue\n",
    "    loss -= np.log(AC.model.transition_matrix[i][tar])\n",
    "loss /= len(DL.train_data[7000:])\n",
    "print('OS: {:.4f}'.format(loss))"
   ]
  },
  {
   "cell_type": "markdown",
   "metadata": {},
   "source": [
    "#### 大调"
   ]
  },
  {
   "cell_type": "code",
   "execution_count": 22,
   "metadata": {},
   "outputs": [
    {
     "name": "stdout",
     "output_type": "stream",
     "text": [
      "10000 valid train_data\n",
      "20000 valid train_data\n",
      "30000 valid train_data\n",
      "total 32003 valid train_data\n",
      "IS: 2.0579\n",
      "OS: 2.0702\n"
     ]
    }
   ],
   "source": [
    "DL.get_train_data(min_length=1, write_cache=False, \n",
    "                  valid_compressed_data=triad_samples['major'],\n",
    "                  tonic='major')\n",
    "AC.get_model(model_name='markov')\n",
    "AC.fit(DL.train_data[:22000])\n",
    "\n",
    "for sample in DL.train_data[:22000]:\n",
    "    i = np.argsort(sample[0][-1].numpy())[-1]\n",
    "    tar = sample[3].numpy()\n",
    "    loss -= np.log(AC.model.transition_matrix[i][tar])\n",
    "loss /= len(DL.train_data[:22000])\n",
    "print('IS: {:.4f}'.format(loss))\n",
    "\n",
    "for sample in DL.train_data[22000:]:\n",
    "    i = np.argsort(sample[0][-1].numpy())[-1]\n",
    "    tar = sample[3].numpy()\n",
    "    if AC.model.transition_matrix[i][tar] == 0:\n",
    "        # print(i,tar)\n",
    "        continue\n",
    "    loss -= np.log(AC.model.transition_matrix[i][tar])\n",
    "loss /= len(DL.train_data[22000:])\n",
    "print('OS: {:.4f}'.format(loss))"
   ]
  },
  {
   "cell_type": "markdown",
   "metadata": {},
   "source": [
    "## 基本统计数据"
   ]
  },
  {
   "cell_type": "markdown",
   "metadata": {},
   "source": [
    "#### 三和弦频数分布"
   ]
  },
  {
   "cell_type": "code",
   "execution_count": null,
   "metadata": {},
   "outputs": [],
   "source": [
    "m = 'major'\n",
    "num_dic = [(key, value) for key, value in triad_num_dic[m].items()]\n",
    "num_dic = sorted(num_dic, key=lambda x:-x[1])\n",
    "num = [i[1] for i in num_dic]\n",
    "chord = [DL.chord_name_dic[i[0]] for i in num_dic]\n",
    "\n",
    "plt.figure(figsize=(18,3),dpi=150)\n",
    "plt.bar([i for i in range(len(num_dic))], num)\n",
    "plt.xticks([i for i in range(len(num_dic))], chord, rotation=90)\n",
    "#plt.grid(linestyle='--')\n",
    "plt.ylabel('frequncy')\n",
    "plt.xlabel('major chord')\n",
    "plt.show()"
   ]
  },
  {
   "cell_type": "code",
   "execution_count": null,
   "metadata": {},
   "outputs": [],
   "source": [
    "m = 'minor'\n",
    "num_dic = [(key, value) for key, value in triad_num_dic[m].items()]\n",
    "num_dic = sorted(num_dic, key=lambda x:-x[1])\n",
    "num = [i[1] for i in num_dic]\n",
    "chord = [DL.chord_name_dic[i[0]] for i in num_dic]\n",
    "\n",
    "plt.figure(figsize=(18,3),dpi=150)\n",
    "plt.bar([i for i in range(len(num_dic))], num)\n",
    "plt.xticks([i for i in range(len(num_dic))], chord, rotation=90)\n",
    "#plt.grid(linestyle='--')\n",
    "plt.ylabel('frequncy')\n",
    "plt.xlabel('minor chord')\n",
    "plt.show()"
   ]
  },
  {
   "cell_type": "markdown",
   "metadata": {},
   "source": [
    "## 测试"
   ]
  },
  {
   "cell_type": "markdown",
   "metadata": {},
   "source": [
    "#### 均匀抽样的回溯算法"
   ]
  },
  {
   "cell_type": "code",
   "execution_count": 21,
   "metadata": {
    "collapsed": true
   },
   "outputs": [
    {
     "name": "stdout",
     "output_type": "stream",
     "text": [
      "(0, 2, 5, 8) 0 (0, 3, 7) 7 hidden eight\n",
      "(0, 2, 5, 8) 0 (3, 7, 0) 7 hidden eight\n",
      "(0, 2, 5, 8) 0 (7, 0, 3) 7 hidden eight\n",
      "(0, 2, 5, 8) 0 (3, 7, 10) 7 hidden eight\n",
      "(0, 2, 5, 8) 0 (7, 10, 3) 7 hidden eight\n",
      "(0, 2, 5, 8) 0 (10, 3, 7) 7 hidden eight\n",
      "(0, 2, 5, 8) 0 (7, 10, 2) 7 hidden eight\n",
      "(0, 2, 5, 8) 0 (10, 2, 7) 7 hidden eight\n",
      "(0, 2, 5, 8) 0 (2, 7, 10) 7 hidden eight\n",
      "(0, 2, 5, 8) 0 (0, 3, 7, 10) 7 hidden eight\n",
      "(0, 2, 5, 8) 0 (7, 10, 0, 3) 7 p eight\n",
      "(0, 2, 5, 8) 0 (7, 10, 2, 3) 7 p eight\n",
      "(0, 2, 5, 8) 0 (10, 2, 3, 7) 7 hidden eight\n",
      "(0, 2, 5, 8) 0 (2, 3, 7, 10) 7 hidden eight\n",
      "(0, 2, 5, 8) 0 (7, 10, 2, 5) 7 p eight\n",
      "(0, 2, 5, 8) 0 (10, 2, 5, 7) 7 hidden eight\n",
      "(0, 2, 5, 8) 0 (2, 5, 7, 10) 7 hidden eight\n",
      "(0, 2, 5, 8) 0 (8, 0, 3, 7) 7 hidden eight\n",
      "(0, 2, 5, 8) 0 (0, 3, 7, 8) 7 hidden eight\n",
      "(0, 2, 5, 8) 0 (7, 8, 0, 3) 7 p eight\n",
      "(8, 0, 3, 5) 0 (0, 3, 7) 7 hidden eight\n",
      "(8, 0, 3, 5) 0 (3, 7, 0) 7 hidden eight\n",
      "(8, 0, 3, 5) 0 (7, 0, 3) 7 hidden eight\n",
      "(8, 0, 3, 5) 0 (3, 7, 10) 7 hidden eight\n",
      "(8, 0, 3, 5) 0 (7, 10, 3) 7 hidden eight\n",
      "(8, 0, 3, 5) 0 (10, 3, 7) 7 hidden eight\n",
      "(8, 0, 3, 5) 0 (7, 10, 2) 7 hidden eight\n",
      "(8, 0, 3, 5) 0 (10, 2, 7) 7 hidden eight\n",
      "(8, 0, 3, 5) 0 (2, 7, 10) 7 hidden eight\n",
      "(8, 0, 3, 5) 0 (3, 7, 10, 0) 7 p eight\n",
      "(8, 0, 3, 5) 0 (7, 10, 0, 3) 7 hidden eight\n",
      "(8, 0, 3, 5) 0 (3, 7, 10, 2) 7 p eight\n",
      "(8, 0, 3, 5) 0 (7, 10, 2, 3) 7 hidden eight\n",
      "(8, 0, 3, 5) 0 (10, 2, 3, 7) 7 hidden eight\n",
      "(8, 0, 3, 5) 0 (7, 10, 2, 5) 7 hidden eight\n",
      "(8, 0, 3, 5) 0 (10, 2, 5, 7) 7 hidden eight\n",
      "(8, 0, 3, 5) 0 (5, 7, 10, 2) 7 p eight\n",
      "(8, 0, 3, 5) 0 (8, 0, 3, 7) 7 hidden eight\n",
      "(8, 0, 3, 5) 0 (3, 7, 8, 0) 7 p eight\n",
      "(8, 0, 3, 5) 0 (7, 8, 0, 3) 7 hidden eight\n",
      "(3, 8, 0) 0 (0, 3, 7) 7 p eight\n",
      "(3, 8, 0) 0 (3, 7, 0) 7 hidden eight\n",
      "(3, 8, 0) 0 (3, 7, 10) 7 hidden eight\n",
      "(3, 8, 0) 0 (10, 3, 7) 7 p eight\n",
      "(3, 8, 0) 0 (7, 10, 2) 7 hidden fifth\n",
      "(3, 8, 0) 0 (10, 2, 7) 7 p eight\n",
      "(3, 8, 0) 0 (2, 7, 10) 7 hidden eight\n",
      "(3, 8, 0) 0 (3, 7, 10, 2) 7 hidden fifth\n",
      "(3, 8, 0) 0 (7, 10, 2, 3) 7 hidden fifth\n",
      "(3, 8, 0) 0 (2, 3, 7, 10) 7 hidden fifth\n",
      "(3, 8, 0) 0 (7, 10, 2, 5) 7 hidden fifth\n",
      "(3, 8, 0) 0 (5, 7, 10, 2) 7 hidden fifth\n",
      "(3, 7, 10, 0) 0 (3, 7, 0) 7 hidden fifth\n",
      "(3, 7, 10, 0) 0 (3, 7, 10) 7 p fifth\n",
      "(3, 7, 10, 0) 0 (7, 10, 2) 7 p fifth\n",
      "(3, 7, 10, 0) 0 (3, 7, 10, 2) 7 hidden fifth\n",
      "(3, 7, 10, 0) 0 (7, 10, 2, 3) 7 p fifth\n",
      "(3, 7, 10, 0) 0 (10, 2, 3, 7) 7 p eight\n",
      "(3, 7, 10, 0) 0 (2, 3, 7, 10) 7 hidden fifth\n",
      "(3, 7, 10, 0) 0 (10, 2, 5, 7) 7 p eight\n",
      "(3, 7, 10, 0) 0 (5, 7, 10, 2) 7 hidden fifth\n",
      "(3, 7, 10, 0) 0 (8, 0, 3, 7) 7 p eight\n",
      "(0, 3, 7) 7 (2, 5, 8) 2 hidden eight\n",
      "(0, 3, 7) 7 (5, 8, 2) 2 p eight\n",
      "(0, 3, 7) 7 (8, 2, 5) 2 hidden eight\n",
      "(0, 3, 7) 7 (7, 10, 2) 2 p eight\n",
      "(0, 3, 7) 7 (10, 2, 7) 2 hidden eight\n",
      "(0, 3, 7) 7 (2, 7, 10) 2 hidden eight\n",
      "(0, 3, 7) 7 (10, 2, 5) 2 hidden eight\n",
      "(0, 3, 7) 7 (2, 5, 10) 2 hidden eight\n",
      "(0, 3, 7) 7 (5, 10, 2) 2 p eight\n",
      "(0, 3, 7) 7 (2, 5, 8, 0) 2 hidden fifth\n",
      "(0, 3, 7) 7 (5, 8, 0, 2) 2 p fifth\n",
      "(0, 3, 7) 7 (10, 2, 5, 8) 2 p fifth\n",
      "(0, 3, 7) 7 (8, 10, 2, 5) 2 hidden fifth\n",
      "(2, 5, 7, 10) 7 (2, 7, 10) 2 hidden fifth\n",
      "(2, 5, 7, 10) 7 (10, 2, 5) 2 hidden fifth\n",
      "(2, 5, 7, 10) 7 (2, 5, 8, 0) 2 hidden fifth\n",
      "(2, 5, 7, 10) 7 (8, 0, 2, 5) 2 p eight\n",
      "(2, 5, 7, 10) 7 (7, 10, 2, 3) 2 p eight\n",
      "(2, 5, 7, 10) 7 (7, 10, 2, 5) 2 p eight\n",
      "(2, 5, 7, 10) 7 (10, 2, 5, 8) 2 hidden fifth\n",
      "(2, 5, 7, 10) 7 (8, 10, 2, 5) 2 p eight\n",
      "(7, 10, 2) 2 (0, 3, 7) 0 hidden eight\n",
      "(7, 10, 2) 2 (3, 7, 0) 0 p eight\n",
      "(7, 10, 2) 2 (7, 0, 3) 0 hidden eight\n",
      "(7, 10, 2) 2 (5, 8, 0) 0 p eight\n",
      "(7, 10, 2) 2 (8, 0, 5) 0 hidden eight\n",
      "(7, 10, 2) 2 (0, 5, 8) 0 hidden eight\n",
      "(7, 10, 2) 2 (8, 0, 3) 0 hidden eight\n",
      "(7, 10, 2) 2 (0, 3, 8) 0 hidden eight\n",
      "(7, 10, 2) 2 (3, 8, 0) 0 p eight\n",
      "(7, 10, 2) 2 (3, 7, 10, 0) 0 p fifth\n",
      "(7, 10, 2) 2 (8, 0, 3, 7) 0 hidden fifth\n",
      "(7, 10, 2) 2 (0, 3, 7, 8) 0 p fifth\n",
      "(7, 10, 2) 2 (7, 8, 0, 3) 0 hidden fifth\n",
      "[22. 38. 12. 26.]\n"
     ]
    }
   ],
   "source": [
    "melody = np.array([0,7,2,0])\n",
    "# CG.rule = rules\n",
    "c = AC.generate(melody, method='lstm', tonic='minor')\n",
    "print(c)"
   ]
  },
  {
   "cell_type": "code",
   "execution_count": 22,
   "metadata": {},
   "outputs": [
    {
     "name": "stdout",
     "output_type": "stream",
     "text": [
      "(3, 7, 10, 0)\n",
      "(2, 5, 7, 10)\n",
      "(7, 10, 2)\n",
      "(8, 0, 2, 5)\n"
     ]
    }
   ],
   "source": [
    "sys.path.append('../tools')\n",
    "from mytools import *\n",
    "for i in vec2chord(c):\n",
    "    print(i)"
   ]
  },
  {
   "cell_type": "code",
   "execution_count": null,
   "metadata": {},
   "outputs": [],
   "source": []
  },
  {
   "cell_type": "code",
   "execution_count": null,
   "metadata": {},
   "outputs": [],
   "source": []
  }
 ],
 "metadata": {
  "kernelspec": {
   "display_name": "Python 3 (ipykernel)",
   "language": "python",
   "name": "python3"
  },
  "language_info": {
   "codemirror_mode": {
    "name": "ipython",
    "version": 3
   },
   "file_extension": ".py",
   "mimetype": "text/x-python",
   "name": "python",
   "nbconvert_exporter": "python",
   "pygments_lexer": "ipython3",
   "version": "3.8.5"
  }
 },
 "nbformat": 4,
 "nbformat_minor": 4
}
