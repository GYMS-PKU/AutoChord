{
 "cells": [
  {
   "cell_type": "code",
   "execution_count": 1,
   "metadata": {},
   "outputs": [],
   "source": [
    "import numpy as np\n",
    "import pandas as pd\n",
    "import pypianoroll as pr\n",
    "import matplotlib.pyplot as plt\n",
    "import importlib\n",
    "import json\n",
    "import xml.etree.ElementTree as ET\n",
    "import os\n",
    "import sys\n",
    "import pickle"
   ]
  },
  {
   "cell_type": "code",
   "execution_count": 2,
   "metadata": {
    "scrolled": true
   },
   "outputs": [
    {
     "name": "stdout",
     "output_type": "stream",
     "text": [
      "reading train_data\n",
      "reading chord_dic\n",
      "reading compressed_data\n"
     ]
    }
   ],
   "source": [
    "sys.path.append('..')\n",
    "import dataloader\n",
    "importlib.reload(dataloader)\n",
    "from dataloader import DataLoader\n",
    "importlib.reload(DataLoader)\n",
    "DL = DataLoader.DataLoader(device='cuda')\n",
    "# DL.process_raw_data()"
   ]
  },
  {
   "cell_type": "markdown",
   "metadata": {},
   "source": [
    "#### 统计出现了多少种和弦"
   ]
  },
  {
   "cell_type": "code",
   "execution_count": 15,
   "metadata": {},
   "outputs": [
    {
     "name": "stdout",
     "output_type": "stream",
     "text": [
      "(0, 4, 7) 0\n",
      "(4, 7, 0) 11\n",
      "(7, 0, 4) 34\n",
      "(2, 5, 9) 7\n",
      "(5, 9, 2) 134\n",
      "(9, 2, 5) 119\n",
      "(4, 7, 11) 13\n",
      "(7, 11, 4) 399\n",
      "(11, 4, 7) 172\n",
      "(5, 9, 0) 5\n",
      "(9, 0, 5) 123\n",
      "(0, 5, 9) 87\n",
      "(7, 11, 2) 8\n",
      "(11, 2, 7) 10\n",
      "(2, 7, 11) 223\n",
      "(9, 0, 4) 2\n",
      "(0, 4, 9) 222\n",
      "(4, 9, 0) 302\n",
      "(11, 2, 5) 100\n",
      "(2, 5, 11) 255\n",
      "(5, 11, 2) 207\n",
      "(0, 3, 7) 14\n",
      "(3, 7, 0) 128\n",
      "(7, 0, 3) 94\n",
      "(2, 5, 9) 7\n",
      "(5, 9, 2) 134\n",
      "(9, 2, 5) 119\n",
      "(3, 7, 10) 43\n",
      "(7, 10, 3) 41\n",
      "(10, 3, 7) 168\n",
      "(5, 8, 0) 37\n",
      "(8, 0, 5) 90\n",
      "(0, 5, 8) 88\n",
      "(7, 10, 2) 60\n",
      "(10, 2, 7) 61\n",
      "(2, 7, 10) 146\n",
      "(8, 0, 3) 15\n",
      "(0, 3, 8) 54\n",
      "(3, 8, 0) 36\n",
      "(10, 2, 5) 39\n",
      "(2, 5, 10) 98\n",
      "(5, 10, 2) 101\n"
     ]
    }
   ],
   "source": [
    "for m in DL.structure_chord_dic['triad'].values():\n",
    "    for k,v in m.items():\n",
    "        for c in v.values():\n",
    "            print(c, DL.chord_dic[c])"
   ]
  },
  {
   "cell_type": "code",
   "execution_count": null,
   "metadata": {},
   "outputs": [],
   "source": []
  }
 ],
 "metadata": {
  "kernelspec": {
   "display_name": "Python 3",
   "language": "python",
   "name": "python3"
  },
  "language_info": {
   "codemirror_mode": {
    "name": "ipython",
    "version": 3
   },
   "file_extension": ".py",
   "mimetype": "text/x-python",
   "name": "python",
   "nbconvert_exporter": "python",
   "pygments_lexer": "ipython3",
   "version": "3.8.5"
  }
 },
 "nbformat": 4,
 "nbformat_minor": 4
}
