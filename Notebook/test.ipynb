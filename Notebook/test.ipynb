{
 "cells": [
  {
   "cell_type": "code",
   "execution_count": 1,
   "metadata": {},
   "outputs": [],
   "source": [
    "import numpy as np\n",
    "import pandas as pd\n",
    "import pypianoroll as pr\n",
    "import matplotlib.pyplot as plt\n",
    "import importlib\n",
    "import json\n",
    "import xml.etree.ElementTree as ET\n",
    "import os\n",
    "import sys\n",
    "import pickle"
   ]
  },
  {
   "cell_type": "code",
   "execution_count": 37,
   "metadata": {
    "scrolled": true
   },
   "outputs": [
    {
     "name": "stdout",
     "output_type": "stream",
     "text": [
      "reading train_data\n",
      "reading chord_dic\n",
      "reading compressed_data\n"
     ]
    }
   ],
   "source": [
    "sys.path.append('..')\n",
    "import dataloader\n",
    "importlib.reload(dataloader)\n",
    "from dataloader import DataLoader\n",
    "importlib.reload(DataLoader)\n",
    "DL = DataLoader.DataLoader(device='cuda')\n",
    "# DL.process_raw_data()"
   ]
  },
  {
   "cell_type": "markdown",
   "metadata": {},
   "source": [
    "#### 统计出现了多少种和弦"
   ]
  },
  {
   "cell_type": "code",
   "execution_count": 36,
   "metadata": {
    "collapsed": true
   },
   "outputs": [
    {
     "data": {
      "text/plain": [
       "(array([ 1.,  1.,  1.,  2.,  0.,  3.,  0.,  1.,  0.,  2.,  3.,  0.,  0.,\n",
       "         2.,  4.,  2.,  2.,  2.,  3.,  6.,  3.,  8.,  4.,  9., 12.,  4.,\n",
       "         8.,  8., 10., 13., 17., 10., 15., 18., 20., 18., 24., 20., 15.,\n",
       "        14., 22., 28., 22., 28., 33., 23., 27., 31., 24., 27., 29., 22.,\n",
       "        24., 22., 23., 23., 16., 25., 25., 24., 30., 13., 17., 10., 16.,\n",
       "        17., 16.,  8.,  6.,  6.,  9.,  6., 14.,  5.,  1.,  5.,  2.,  4.,\n",
       "         2.,  4.,  6.,  3.,  4.,  0.,  1.,  2.,  0.,  1.,  2.,  0.,  1.,\n",
       "         0.,  0.,  0.,  3.,  1.,  1.,  0.,  0.,  1.]),\n",
       " array([-3.1780455e+00, -3.1117754e+00, -3.0455053e+00, -2.9792352e+00,\n",
       "        -2.9129651e+00, -2.8466949e+00, -2.7804248e+00, -2.7141550e+00,\n",
       "        -2.6478848e+00, -2.5816147e+00, -2.5153446e+00, -2.4490745e+00,\n",
       "        -2.3828044e+00, -2.3165343e+00, -2.2502642e+00, -2.1839941e+00,\n",
       "        -2.1177239e+00, -2.0514538e+00, -1.9851838e+00, -1.9189137e+00,\n",
       "        -1.8526436e+00, -1.7863735e+00, -1.7201035e+00, -1.6538334e+00,\n",
       "        -1.5875633e+00, -1.5212932e+00, -1.4550231e+00, -1.3887529e+00,\n",
       "        -1.3224828e+00, -1.2562128e+00, -1.1899427e+00, -1.1236726e+00,\n",
       "        -1.0574025e+00, -9.9113244e-01, -9.2486233e-01, -8.5859221e-01,\n",
       "        -7.9232216e-01, -7.2605205e-01, -6.5978193e-01, -5.9351182e-01,\n",
       "        -5.2724177e-01, -4.6097165e-01, -3.9470157e-01, -3.2843149e-01,\n",
       "        -2.6216137e-01, -1.9589129e-01, -1.2962119e-01, -6.3351095e-02,\n",
       "         2.9189968e-03,  6.9189094e-02,  1.3545918e-01,  2.0172928e-01,\n",
       "         2.6799938e-01,  3.3426946e-01,  4.0053955e-01,  4.6680966e-01,\n",
       "         5.3307974e-01,  5.9934986e-01,  6.6561991e-01,  7.3189002e-01,\n",
       "         7.9816014e-01,  8.6443019e-01,  9.3070030e-01,  9.9697042e-01,\n",
       "         1.0632405e+00,  1.1295106e+00,  1.1957806e+00,  1.2620507e+00,\n",
       "         1.3283209e+00,  1.3945910e+00,  1.4608611e+00,  1.5271312e+00,\n",
       "         1.5934012e+00,  1.6596713e+00,  1.7259414e+00,  1.7922115e+00,\n",
       "         1.8584816e+00,  1.9247518e+00,  1.9910219e+00,  2.0572920e+00,\n",
       "         2.1235621e+00,  2.1898322e+00,  2.2561021e+00,  2.3223722e+00,\n",
       "         2.3886423e+00,  2.4549124e+00,  2.5211825e+00,  2.5874527e+00,\n",
       "         2.6537228e+00,  2.7199929e+00,  2.7862630e+00,  2.8525331e+00,\n",
       "         2.9188032e+00,  2.9850733e+00,  3.0513432e+00,  3.1176133e+00,\n",
       "         3.1838834e+00,  3.2501535e+00,  3.3164237e+00,  3.3826938e+00,\n",
       "         3.4489639e+00], dtype=float32),\n",
       " <BarContainer object of 100 artists>)"
      ]
     },
     "execution_count": 36,
     "metadata": {},
     "output_type": "execute_result"
    },
    {
     "data": {
      "image/png": "[encoded data removed]",
      "text/plain": [
       "<Figure size 432x288 with 1 Axes>"
      ]
     },
     "metadata": {
      "needs_background": "light"
     },
     "output_type": "display_data"
    }
   ],
   "source": [
    "import torch\n",
    "plt.hist(torch.randn(1000).numpy(),bins=100)"
   ]
  },
  {
   "cell_type": "code",
   "execution_count": 33,
   "metadata": {
    "scrolled": true
   },
   "outputs": [
    {
     "name": "stdout",
     "output_type": "stream",
     "text": [
      "Multitrack(name=None, resolution=24, tempo=array(shape=(888, 1), dtype=float64), downbeat=array(shape=(888, 1), dtype=bool), tracks=[StandardTrack(name='', program=0, is_drum=False, pianoroll=array(shape=(888, 128), dtype=uint8)), StandardTrack(name='', program=0, is_drum=False, pianoroll=array(shape=(888, 128), dtype=uint8))])\n"
     ]
    }
   ],
   "source": [
    "multitrack = pr.read(\"F:\\\\Documents\\\\学习资料\\\\自动配和弦\\\\datasets\\\\pianoroll\\\\a\\\\above-and-beyond\\\\always/chorus_key.mid\")\n",
    "print(multitrack)"
   ]
  },
  {
   "cell_type": "code",
   "execution_count": 40,
   "metadata": {},
   "outputs": [
    {
     "name": "stdout",
     "output_type": "stream",
     "text": [
      "Multitrack(name=None, resolution=24, tempo=array(shape=(888, 1), dtype=float64), downbeat=array(shape=(888, 1), dtype=bool), tracks=[StandardTrack(name='', program=0, is_drum=False, pianoroll=array(shape=(888, 128), dtype=uint8)), StandardTrack(name='', program=0, is_drum=False, pianoroll=array(shape=(888, 128), dtype=uint8))])\n"
     ]
    }
   ],
   "source": [
    "multitrack = pr.read(\"F:\\\\Documents\\\\学习资料\\\\自动配和弦\\\\datasets\\\\pianoroll\\\\a\\\\above-and-beyond\\\\always/chorus_nokey.mid\")\n",
    "print(multitrack)"
   ]
  },
  {
   "cell_type": "code",
   "execution_count": 39,
   "metadata": {},
   "outputs": [
    {
     "data": {
      "text/plain": [
       "[<matplotlib.lines.Line2D at 0x1e5cfe13190>]"
      ]
     },
     "execution_count": 39,
     "metadata": {},
     "output_type": "execute_result"
    },
    {
     "data": {
      "image/png": "[encoded data removed]",
      "text/plain": [
       "<Figure size 432x288 with 1 Axes>"
      ]
     },
     "metadata": {
      "needs_background": "light"
     },
     "output_type": "display_data"
    }
   ],
   "source": [
    "plt.plot(multitrack.tracks[0].pianoroll[97])"
   ]
  },
  {
   "cell_type": "code",
   "execution_count": null,
   "metadata": {},
   "outputs": [],
   "source": []
  }
 ],
 "metadata": {
  "kernelspec": {
   "display_name": "Python 3",
   "language": "python",
   "name": "python3"
  },
  "language_info": {
   "codemirror_mode": {
    "name": "ipython",
    "version": 3
   },
   "file_extension": ".py",
   "mimetype": "text/x-python",
   "name": "python",
   "nbconvert_exporter": "python",
   "pygments_lexer": "ipython3",
   "version": "3.8.5"
  }
 },
 "nbformat": 4,
 "nbformat_minor": 4
}
