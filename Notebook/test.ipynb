{
 "cells": [
  {
   "cell_type": "code",
   "execution_count": 103,
   "metadata": {},
   "outputs": [],
   "source": [
    "import numpy as np\n",
    "import pandas as pd\n",
    "import pypianoroll as pr\n",
    "import matplotlib.pyplot as plt\n",
    "import importlib\n",
    "import json\n",
    "import xml.etree.ElementTree as ET\n",
    "import os\n",
    "import sys\n",
    "import pickle"
   ]
  },
  {
   "cell_type": "code",
   "execution_count": 227,
   "metadata": {
    "scrolled": true
   },
   "outputs": [
    {
     "name": "stdout",
     "output_type": "stream",
     "text": [
      "reading compressed_data\n"
     ]
    }
   ],
   "source": [
    "sys.path.append('..')\n",
    "import dataloader\n",
    "importlib.reload(dataloader)\n",
    "from dataloader import DataLoader\n",
    "importlib.reload(DataLoader)\n",
    "DL = DataLoader.DataLoader(device='cuda')\n",
    "# DL.process_raw_data()"
   ]
  },
  {
   "cell_type": "code",
   "execution_count": 228,
   "metadata": {
    "scrolled": false
   },
   "outputs": [
    {
     "name": "stdout",
     "output_type": "stream",
     "text": [
      "1000 valid train_data\n",
      "2000 valid train_data\n",
      "3000 valid train_data\n",
      "4000 valid train_data\n",
      "5000 valid train_data\n",
      "6000 valid train_data\n",
      "7000 valid train_data\n",
      "8000 valid train_data\n",
      "9000 valid train_data\n",
      "10000 valid train_data\n",
      "11000 valid train_data\n",
      "12000 valid train_data\n",
      "13000 valid train_data\n",
      "14000 valid train_data\n",
      "total 14926 valid train_data\n"
     ]
    }
   ],
   "source": [
    "DL.get_train_data()"
   ]
  },
  {
   "cell_type": "code",
   "execution_count": 236,
   "metadata": {},
   "outputs": [
    {
     "data": {
      "text/plain": [
       "tensor([  0.,   0.,   0.,   0.,   0.,   0.,   0.,   0.,   0.,   0.,   0.,   0.,\n",
       "          0.,   0.,   0.,   0.,   0.,   0.,   0.,   0.,   0.,   0.,   0.,   0.,\n",
       "          0.,   0.,   0.,   0.,   0.,   0.,   0.,   0.,   0.,   0.,   0.,   0.,\n",
       "          0.,   0.,   0.,   0.,   0.,   0.,   0.,   0.,   0.,   0.,   0.,   0.,\n",
       "        100.,   0.,   0.,   0., 100.,   0.,   0., 100.,   0.,   0.,   0.,   0.,\n",
       "          0.,   0.,   0.,   0.,   0.,   0.,   0.,   0.,   0.,   0.,   0.,   0.,\n",
       "          0.,   0.,   0.,   0.,   0.,   0.,   0.,   0.,   0.,   0.,   0.,   0.,\n",
       "          0.,   0.,   0.,   0.,   0.,   0.,   0.,   0.,   0.,   0.,   0.,   0.,\n",
       "          0.,   0.,   0.,   0.,   0.,   0.,   0.,   0.,   0.,   0.,   0.,   0.,\n",
       "          0.,   0.,   0.,   0.,   0.,   0.,   0.,   0.,   0.,   0.,   0.,   0.,\n",
       "          0.,   0.,   0.,   0.,   0.,   0.,   0.,   0.], device='cuda:0',\n",
       "       dtype=torch.float64)"
      ]
     },
     "execution_count": 236,
     "metadata": {},
     "output_type": "execute_result"
    }
   ],
   "source": [
    "DL.train_data[0][1][0]"
   ]
  },
  {
   "cell_type": "markdown",
   "metadata": {},
   "source": [
    "#### 统计出现了多少种和弦"
   ]
  },
  {
   "cell_type": "code",
   "execution_count": 234,
   "metadata": {},
   "outputs": [],
   "source": [
    "dic = {}\n",
    "for data in DL.train_data:\n",
    "    c = data[1]\n",
    "    for i in range(len(c)):\n",
    "        try:\n",
    "            dic[c[i]] += 1\n",
    "        except:\n",
    "            dic[c[i]] = 1"
   ]
  },
  {
   "cell_type": "code",
   "execution_count": 235,
   "metadata": {},
   "outputs": [
    {
     "data": {
      "text/plain": [
       "294730"
      ]
     },
     "execution_count": 235,
     "metadata": {},
     "output_type": "execute_result"
    }
   ],
   "source": [
    "list"
   ]
  },
  {
   "cell_type": "code",
   "execution_count": 15,
   "metadata": {
    "scrolled": true
   },
   "outputs": [
    {
     "data": {
      "text/plain": [
       "array([768, 128], dtype=int64)"
      ]
     },
     "execution_count": 15,
     "metadata": {},
     "output_type": "execute_result"
    }
   ],
   "source": [
    "a['pianoroll_0_csc_shape']"
   ]
  },
  {
   "cell_type": "code",
   "execution_count": 33,
   "metadata": {},
   "outputs": [
    {
     "name": "stdout",
     "output_type": "stream",
     "text": [
      "Multitrack(name=None, resolution=24, tempo=array(shape=(888, 1), dtype=float64), downbeat=array(shape=(888, 1), dtype=bool), tracks=[StandardTrack(name='', program=0, is_drum=False, pianoroll=array(shape=(888, 128), dtype=uint8)), StandardTrack(name='', program=0, is_drum=False, pianoroll=array(shape=(888, 128), dtype=uint8))])\n"
     ]
    }
   ],
   "source": [
    "multitrack = pr.read(\"F:\\\\Documents\\\\学习资料\\\\自动配和弦\\\\datasets\\\\pianoroll\\\\a\\\\above-and-beyond\\\\always/chorus_key.mid\")\n",
    "print(multitrack)"
   ]
  },
  {
   "cell_type": "code",
   "execution_count": 40,
   "metadata": {},
   "outputs": [
    {
     "name": "stdout",
     "output_type": "stream",
     "text": [
      "Multitrack(name=None, resolution=24, tempo=array(shape=(888, 1), dtype=float64), downbeat=array(shape=(888, 1), dtype=bool), tracks=[StandardTrack(name='', program=0, is_drum=False, pianoroll=array(shape=(888, 128), dtype=uint8)), StandardTrack(name='', program=0, is_drum=False, pianoroll=array(shape=(888, 128), dtype=uint8))])\n"
     ]
    }
   ],
   "source": [
    "multitrack = pr.read(\"F:\\\\Documents\\\\学习资料\\\\自动配和弦\\\\datasets\\\\pianoroll\\\\a\\\\above-and-beyond\\\\always/chorus_nokey.mid\")\n",
    "print(multitrack)"
   ]
  },
  {
   "cell_type": "code",
   "execution_count": 39,
   "metadata": {},
   "outputs": [
    {
     "data": {
      "text/plain": [
       "[<matplotlib.lines.Line2D at 0x1e5cfe13190>]"
      ]
     },
     "execution_count": 39,
     "metadata": {},
     "output_type": "execute_result"
    },
    {
     "data": {
      "image/png": "[encoded data removed]",
      "text/plain": [
       "<Figure size 432x288 with 1 Axes>"
      ]
     },
     "metadata": {
      "needs_background": "light"
     },
     "output_type": "display_data"
    }
   ],
   "source": [
    "plt.plot(multitrack.tracks[0].pianoroll[97])"
   ]
  },
  {
   "cell_type": "code",
   "execution_count": null,
   "metadata": {},
   "outputs": [],
   "source": []
  }
 ],
 "metadata": {
  "kernelspec": {
   "display_name": "Python 3",
   "language": "python",
   "name": "python3"
  },
  "language_info": {
   "codemirror_mode": {
    "name": "ipython",
    "version": 3
   },
   "file_extension": ".py",
   "mimetype": "text/x-python",
   "name": "python",
   "nbconvert_exporter": "python",
   "pygments_lexer": "ipython3",
   "version": "3.8.5"
  }
 },
 "nbformat": 4,
 "nbformat_minor": 4
}
