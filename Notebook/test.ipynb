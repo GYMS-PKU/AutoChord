{
 "cells": [
  {
   "cell_type": "code",
   "execution_count": 1,
   "metadata": {},
   "outputs": [],
   "source": [
    "import numpy as np\n",
    "import pandas as pd\n",
    "import pypianoroll as pr\n",
    "import matplotlib.pyplot as plt\n",
    "import importlib\n",
    "import json\n",
    "import xml.etree.ElementTree as ET\n",
    "import os\n",
    "import sys\n",
    "import pickle\n",
    "from time import time\n",
    "\n",
    "import torch\n",
    "from torch import nn\n",
    "import numpy as np\n",
    "from torch.nn import functional as F\n",
    "from torch.nn.utils.rnn import pack_padded_sequence, pad_packed_sequence\n",
    "from torch.autograd import Variable"
   ]
  },
  {
   "cell_type": "markdown",
   "metadata": {},
   "source": [
    "#### 读取数据"
   ]
  },
  {
   "cell_type": "code",
   "execution_count": 2,
   "metadata": {
    "scrolled": true
   },
   "outputs": [
    {
     "name": "stdout",
     "output_type": "stream",
     "text": [
      "reading chord_num_dic\n",
      "reading num_chord_dic\n",
      "reading double_compressed_data\n"
     ]
    }
   ],
   "source": [
    "sys.path.append('..')\n",
    "import dataloader\n",
    "#importlib.reload(dataloader)\n",
    "import model\n",
    "#importlib.reload(model)\n",
    "from dataloader import DataLoader\n",
    "#importlib.reload(DataLoader)\n",
    "from model.DeepModel import * \n",
    "#importlib.reload(model.DeepModel)\n",
    "DL = DataLoader.DataLoader(device='cpu')\n",
    "# DL.process_raw_data()"
   ]
  },
  {
   "cell_type": "markdown",
   "metadata": {},
   "source": [
    "#### 统计所有和弦数目，出现的三和弦数目以及全部使用三和弦的样本数"
   ]
  },
  {
   "cell_type": "code",
   "execution_count": 3,
   "metadata": {},
   "outputs": [
    {
     "name": "stdout",
     "output_type": "stream",
     "text": [
      "306469\n",
      "220889\n",
      "5155\n"
     ]
    }
   ],
   "source": [
    "total = 0  # 出现的和弦总数\n",
    "triad_num = 0  # 三和弦总数\n",
    "triad_num_dic = {i:0 for i in DL.chord_num_dic.keys()}\n",
    "triad_sample_num = 0 # 全部使用三和弦的样本数\n",
    "triad_samples = []\n",
    "for sample in DL.double_compressed_data:\n",
    "    sample_copy = sample.copy()\n",
    "    melody = sample['melody']\n",
    "    chord = sample['chord']\n",
    "    t = True\n",
    "    for i in range(len(melody)):\n",
    "        total += 1\n",
    "        try:\n",
    "            DL.chord_num_dic[chord[i]]\n",
    "            triad_num_dic[chord[i]] += 1\n",
    "            triad_num += 1\n",
    "        except:\n",
    "            if len(chord[i]) < 3:\n",
    "                for c in DL.chord_num_dic.keys():\n",
    "                    if melody[i] not in c:\n",
    "                        continue\n",
    "                    for k in chord[i]:\n",
    "                        if k not in c:\n",
    "                            break\n",
    "                    else:\n",
    "                        sample_copy['chord'][i] = c\n",
    "                        triad_num_dic[c] += 1\n",
    "                        triad_num += 1\n",
    "                        break\n",
    "                else:\n",
    "                    t = False\n",
    "            else:\n",
    "                t = False\n",
    "                pass\n",
    "    if t:\n",
    "        triad_samples.append(sample_copy)\n",
    "        triad_sample_num += 1\n",
    "\n",
    "print(total)\n",
    "print(triad_num)\n",
    "print(triad_sample_num)"
   ]
  },
  {
   "cell_type": "code",
   "execution_count": 4,
   "metadata": {},
   "outputs": [
    {
     "name": "stdout",
     "output_type": "stream",
     "text": [
      "10000 valid train_data\n",
      "20000 valid train_data\n",
      "30000 valid train_data\n",
      "40000 valid train_data\n",
      "50000 valid train_data\n",
      "60000 valid train_data\n",
      "total 61380 valid train_data\n"
     ]
    }
   ],
   "source": [
    "DL.get_train_data(min_length=1, write_cache=False, valid_compressed_data=triad_samples)"
   ]
  },
  {
   "cell_type": "code",
   "execution_count": 7,
   "metadata": {},
   "outputs": [],
   "source": [
    "device = 'cuda'\n",
    "model = ChordLstmNet(chord_num=39, melody_keys=12, hidden_size=128, num_layers=2, bidirectional=False,\n",
    "                 alpha=0.2, device=device).to(device)\n",
    "optimizer = torch.optim.Adam(model.parameters(), lr=1e-3, weight_decay=1e-3)"
   ]
  },
  {
   "cell_type": "code",
   "execution_count": null,
   "metadata": {
    "scrolled": true
   },
   "outputs": [
    {
     "name": "stdout",
     "output_type": "stream",
     "text": [
      "loss: 3.6784 time used: 0.7697s\n",
      "loss: 3.6701 time used: 0.5425s\n",
      "loss: 3.6485 time used: 0.6756s\n",
      "loss: 3.6492 time used: 0.5995s\n",
      "loss: 3.6226 time used: 0.5855s\n",
      "loss: 3.6235 time used: 0.5605s\n",
      "loss: 3.5842 time used: 0.5742s\n",
      "loss: 3.5737 time used: 0.5355s\n",
      "loss: 3.5486 time used: 0.6086s\n",
      "loss: 3.5285 time used: 0.6436s\n",
      "loss: 3.4826 time used: 0.5915s\n",
      "loss: 3.4795 time used: 0.5785s\n",
      "loss: 3.4318 time used: 0.5895s\n",
      "loss: 3.3484 time used: 0.5431s\n",
      "loss: 3.2739 time used: 0.5715s\n",
      "loss: 3.1333 time used: 0.5985s\n",
      "loss: 3.0169 time used: 0.6256s\n",
      "loss: 3.0339 time used: 0.5585s\n",
      "loss: 2.9647 time used: 0.5987s\n",
      "loss: 2.6870 time used: 0.5605s\n",
      "loss: 2.6406 time used: 0.5681s\n",
      "loss: 2.9883 time used: 0.5635s\n",
      "loss: 2.9784 time used: 0.5725s\n",
      "loss: 2.8962 time used: 0.6716s\n",
      "loss: 2.6297 time used: 0.5815s\n",
      "loss: 2.8368 time used: 0.5755s\n",
      "loss: 2.6788 time used: 0.6146s\n",
      "loss: 2.7337 time used: 0.5911s\n",
      "loss: 2.6071 time used: 0.6326s\n",
      "loss: 2.6966 time used: 0.5795s\n",
      "loss: 2.5467 time used: 0.5865s\n",
      "loss: 2.5514 time used: 0.6286s\n",
      "loss: 2.5451 time used: 0.5875s\n",
      "loss: 2.5926 time used: 0.5805s\n",
      "loss: 2.7414 time used: 0.5675s\n",
      "loss: 2.7055 time used: 0.5585s\n",
      "loss: 2.5962 time used: 0.5465s\n",
      "loss: 2.5141 time used: 0.5645s\n",
      "loss: 2.5390 time used: 0.6186s\n",
      "epoch 0 testing\n",
      "test loss: 2.5646 time used: 12.7107s\n",
      "loss: 2.6693 time used: 0.6044s\n",
      "loss: 2.5876 time used: 0.5355s\n",
      "loss: 2.4447 time used: 0.6816s\n",
      "loss: 2.4524 time used: 0.6146s\n",
      "loss: 2.3896 time used: 0.5835s\n",
      "loss: 2.8031 time used: 0.5751s\n",
      "loss: 2.2668 time used: 0.5705s\n",
      "loss: 2.3232 time used: 0.5315s\n",
      "loss: 2.5498 time used: 0.6222s\n",
      "loss: 2.5097 time used: 0.6614s\n",
      "loss: 2.3519 time used: 0.5975s\n",
      "loss: 2.7120 time used: 0.5805s\n",
      "loss: 2.5462 time used: 0.6106s\n",
      "loss: 2.3620 time used: 0.5475s\n",
      "loss: 2.3277 time used: 0.5735s\n",
      "loss: 2.3165 time used: 0.5975s\n",
      "loss: 2.3228 time used: 0.6326s\n",
      "loss: 2.4457 time used: 0.5605s\n",
      "loss: 2.3909 time used: 0.6005s\n"
     ]
    }
   ],
   "source": [
    "train_loss = []\n",
    "test_loss = []\n",
    "train_data = DL.train_data[:40000]\n",
    "test_data = DL.train_data[40000:]\n",
    "train_data = [(sample[0].unsqueeze(0).to(device), sample[1].unsqueeze(0).to(device),\n",
    "                       sample[2].unsqueeze(0).to(device), sample[3].unsqueeze(0).to(device))\n",
    "                      for sample in train_data]\n",
    "test_data = [(sample[0].unsqueeze(0).to(device), sample[1].unsqueeze(0).to(device),\n",
    "              sample[2].unsqueeze(0).to(device), sample[3].unsqueeze(0).to(device))\n",
    "             for sample in test_data]\n",
    "epochs = 40\n",
    "batch_size = 1000\n",
    "for epoch in range(epochs):\n",
    "    num = 0 \n",
    "    loss = 0\n",
    "    t = time()\n",
    "    model.train()\n",
    "    for sample in train_data:\n",
    "        if num < batch_size:\n",
    "            a = sample[0]\n",
    "            b = sample[1]\n",
    "            c = sample[2]\n",
    "            out = model(a,b,c)\n",
    "            loss += F.nll_loss(out, sample[3])\n",
    "            num += 1\n",
    "        else:\n",
    "            num = 0\n",
    "            loss /= batch_size\n",
    "            print('loss: {:.4f} time used: {:.4f}s'.format(loss, time()-t))\n",
    "            train_loss.append(float(loss.detach().to('cpu')))\n",
    "            loss.backward()\n",
    "            loss = 0\n",
    "            optimizer.step()\n",
    "            optimizer.zero_grad()\n",
    "            t = time()\n",
    "    print('epoch {} testing'.format(epoch))\n",
    "    loss = 0\n",
    "    model.eval()\n",
    "    for sample in test_data:\n",
    "\n",
    "        a = sample[0]\n",
    "        b = sample[1]\n",
    "        c = sample[2]\n",
    "        out = model(a,b,c)\n",
    "        loss += F.nll_loss(out, sample[3])\n",
    "\n",
    "    loss /= len(test_data)\n",
    "    test_loss.append(float(loss.detach().to('cpu')))\n",
    "    print('test loss: {:.4f} time used: {:.4f}s'.format(loss, time()-t))"
   ]
  },
  {
   "cell_type": "code",
   "execution_count": 32,
   "metadata": {
    "scrolled": true
   },
   "outputs": [
    {
     "data": {
      "text/plain": [
       "974.814208984375"
      ]
     },
     "execution_count": 32,
     "metadata": {},
     "output_type": "execute_result"
    }
   ],
   "source": [
    "float(loss.detach().to('cpu'))"
   ]
  },
  {
   "cell_type": "code",
   "execution_count": null,
   "metadata": {},
   "outputs": [],
   "source": []
  }
 ],
 "metadata": {
  "kernelspec": {
   "display_name": "Python 3",
   "language": "python",
   "name": "python3"
  },
  "language_info": {
   "codemirror_mode": {
    "name": "ipython",
    "version": 3
   },
   "file_extension": ".py",
   "mimetype": "text/x-python",
   "name": "python",
   "nbconvert_exporter": "python",
   "pygments_lexer": "ipython3",
   "version": "3.8.5"
  }
 },
 "nbformat": 4,
 "nbformat_minor": 4
}
