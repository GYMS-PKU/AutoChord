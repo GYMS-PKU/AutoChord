{
 "cells": [
  {
   "cell_type": "code",
   "execution_count": 103,
   "metadata": {},
   "outputs": [],
   "source": [
    "import numpy as np\n",
    "import pandas as pd\n",
    "import pypianoroll as pr\n",
    "import matplotlib.pyplot as plt\n",
    "import importlib\n",
    "import json\n",
    "import xml.etree.ElementTree as ET\n",
    "import os\n",
    "import sys\n",
    "import pickle"
   ]
  },
  {
   "cell_type": "code",
   "execution_count": 164,
   "metadata": {},
   "outputs": [],
   "source": [
    "data = pd.read_excel('C:\\\\Users\\\\Administrator\\\\Desktop\\\\华为云盘\\\\学习资料\\\\博士讨论班\\\\高频\\\\task\\\\2021.11.14/流通市值+涨跌停+停牌.xlsx',sheet_name=1)"
   ]
  },
  {
   "cell_type": "code",
   "execution_count": 169,
   "metadata": {},
   "outputs": [
    {
     "data": {
      "text/html": [
       "<div>\n",
       "<style scoped>\n",
       "    .dataframe tbody tr th:only-of-type {\n",
       "        vertical-align: middle;\n",
       "    }\n",
       "\n",
       "    .dataframe tbody tr th {\n",
       "        vertical-align: top;\n",
       "    }\n",
       "\n",
       "    .dataframe thead th {\n",
       "        text-align: right;\n",
       "    }\n",
       "</style>\n",
       "<table border=\"1\" class=\"dataframe\">\n",
       "  <thead>\n",
       "    <tr style=\"text-align: right;\">\n",
       "      <th></th>\n",
       "      <th>代码</th>\n",
       "      <th>名称</th>\n",
       "      <th>2019-01-02 00:00:00</th>\n",
       "      <th>2019-01-03 00:00:00</th>\n",
       "      <th>2019-01-04 00:00:00</th>\n",
       "      <th>2019-01-07 00:00:00</th>\n",
       "      <th>2019-01-08 00:00:00</th>\n",
       "      <th>2019-01-09 00:00:00</th>\n",
       "      <th>2019-01-10 00:00:00</th>\n",
       "      <th>2019-01-11 00:00:00</th>\n",
       "      <th>...</th>\n",
       "      <th>2020-12-18 00:00:00</th>\n",
       "      <th>2020-12-21 00:00:00</th>\n",
       "      <th>2020-12-22 00:00:00</th>\n",
       "      <th>2020-12-23 00:00:00</th>\n",
       "      <th>2020-12-24 00:00:00</th>\n",
       "      <th>2020-12-25 00:00:00</th>\n",
       "      <th>2020-12-28 00:00:00</th>\n",
       "      <th>2020-12-29 00:00:00</th>\n",
       "      <th>2020-12-30 00:00:00</th>\n",
       "      <th>2020-12-31 00:00:00</th>\n",
       "    </tr>\n",
       "  </thead>\n",
       "  <tbody>\n",
       "    <tr>\n",
       "      <th>0</th>\n",
       "      <td>000001.SZ</td>\n",
       "      <td>平安银行</td>\n",
       "      <td>0</td>\n",
       "      <td>0</td>\n",
       "      <td>0</td>\n",
       "      <td>0</td>\n",
       "      <td>0</td>\n",
       "      <td>0</td>\n",
       "      <td>0</td>\n",
       "      <td>0</td>\n",
       "      <td>...</td>\n",
       "      <td>0</td>\n",
       "      <td>0</td>\n",
       "      <td>0</td>\n",
       "      <td>0</td>\n",
       "      <td>0</td>\n",
       "      <td>0</td>\n",
       "      <td>0</td>\n",
       "      <td>0</td>\n",
       "      <td>0</td>\n",
       "      <td>0</td>\n",
       "    </tr>\n",
       "    <tr>\n",
       "      <th>1</th>\n",
       "      <td>000002.SZ</td>\n",
       "      <td>万科A</td>\n",
       "      <td>0</td>\n",
       "      <td>0</td>\n",
       "      <td>0</td>\n",
       "      <td>0</td>\n",
       "      <td>0</td>\n",
       "      <td>0</td>\n",
       "      <td>0</td>\n",
       "      <td>0</td>\n",
       "      <td>...</td>\n",
       "      <td>0</td>\n",
       "      <td>0</td>\n",
       "      <td>0</td>\n",
       "      <td>0</td>\n",
       "      <td>0</td>\n",
       "      <td>0</td>\n",
       "      <td>0</td>\n",
       "      <td>0</td>\n",
       "      <td>0</td>\n",
       "      <td>0</td>\n",
       "    </tr>\n",
       "    <tr>\n",
       "      <th>2</th>\n",
       "      <td>000004.SZ</td>\n",
       "      <td>国华网安</td>\n",
       "      <td>0</td>\n",
       "      <td>0</td>\n",
       "      <td>0</td>\n",
       "      <td>0</td>\n",
       "      <td>0</td>\n",
       "      <td>0</td>\n",
       "      <td>0</td>\n",
       "      <td>0</td>\n",
       "      <td>...</td>\n",
       "      <td>0</td>\n",
       "      <td>0</td>\n",
       "      <td>0</td>\n",
       "      <td>0</td>\n",
       "      <td>0</td>\n",
       "      <td>0</td>\n",
       "      <td>0</td>\n",
       "      <td>0</td>\n",
       "      <td>0</td>\n",
       "      <td>0</td>\n",
       "    </tr>\n",
       "    <tr>\n",
       "      <th>3</th>\n",
       "      <td>000005.SZ</td>\n",
       "      <td>ST星源</td>\n",
       "      <td>0</td>\n",
       "      <td>0</td>\n",
       "      <td>0</td>\n",
       "      <td>0</td>\n",
       "      <td>0</td>\n",
       "      <td>0</td>\n",
       "      <td>0</td>\n",
       "      <td>0</td>\n",
       "      <td>...</td>\n",
       "      <td>0</td>\n",
       "      <td>0</td>\n",
       "      <td>0</td>\n",
       "      <td>0</td>\n",
       "      <td>0</td>\n",
       "      <td>0</td>\n",
       "      <td>0</td>\n",
       "      <td>0</td>\n",
       "      <td>0</td>\n",
       "      <td>0</td>\n",
       "    </tr>\n",
       "    <tr>\n",
       "      <th>4</th>\n",
       "      <td>000006.SZ</td>\n",
       "      <td>深振业A</td>\n",
       "      <td>0</td>\n",
       "      <td>0</td>\n",
       "      <td>0</td>\n",
       "      <td>0</td>\n",
       "      <td>0</td>\n",
       "      <td>0</td>\n",
       "      <td>0</td>\n",
       "      <td>0</td>\n",
       "      <td>...</td>\n",
       "      <td>0</td>\n",
       "      <td>0</td>\n",
       "      <td>0</td>\n",
       "      <td>0</td>\n",
       "      <td>0</td>\n",
       "      <td>0</td>\n",
       "      <td>0</td>\n",
       "      <td>0</td>\n",
       "      <td>0</td>\n",
       "      <td>0</td>\n",
       "    </tr>\n",
       "  </tbody>\n",
       "</table>\n",
       "<p>5 rows × 489 columns</p>\n",
       "</div>"
      ],
      "text/plain": [
       "          代码    名称  2019-01-02 00:00:00  2019-01-03 00:00:00  \\\n",
       "0  000001.SZ  平安银行                    0                    0   \n",
       "1  000002.SZ   万科A                    0                    0   \n",
       "2  000004.SZ  国华网安                    0                    0   \n",
       "3  000005.SZ  ST星源                    0                    0   \n",
       "4  000006.SZ  深振业A                    0                    0   \n",
       "\n",
       "   2019-01-04 00:00:00  2019-01-07 00:00:00  2019-01-08 00:00:00  \\\n",
       "0                    0                    0                    0   \n",
       "1                    0                    0                    0   \n",
       "2                    0                    0                    0   \n",
       "3                    0                    0                    0   \n",
       "4                    0                    0                    0   \n",
       "\n",
       "   2019-01-09 00:00:00  2019-01-10 00:00:00  2019-01-11 00:00:00  ...  \\\n",
       "0                    0                    0                    0  ...   \n",
       "1                    0                    0                    0  ...   \n",
       "2                    0                    0                    0  ...   \n",
       "3                    0                    0                    0  ...   \n",
       "4                    0                    0                    0  ...   \n",
       "\n",
       "   2020-12-18 00:00:00  2020-12-21 00:00:00  2020-12-22 00:00:00  \\\n",
       "0                    0                    0                    0   \n",
       "1                    0                    0                    0   \n",
       "2                    0                    0                    0   \n",
       "3                    0                    0                    0   \n",
       "4                    0                    0                    0   \n",
       "\n",
       "   2020-12-23 00:00:00  2020-12-24 00:00:00  2020-12-25 00:00:00  \\\n",
       "0                    0                    0                    0   \n",
       "1                    0                    0                    0   \n",
       "2                    0                    0                    0   \n",
       "3                    0                    0                    0   \n",
       "4                    0                    0                    0   \n",
       "\n",
       "   2020-12-28 00:00:00  2020-12-29 00:00:00  2020-12-30 00:00:00  \\\n",
       "0                    0                    0                    0   \n",
       "1                    0                    0                    0   \n",
       "2                    0                    0                    0   \n",
       "3                    0                    0                    0   \n",
       "4                    0                    0                    0   \n",
       "\n",
       "   2020-12-31 00:00:00  \n",
       "0                    0  \n",
       "1                    0  \n",
       "2                    0  \n",
       "3                    0  \n",
       "4                    0  \n",
       "\n",
       "[5 rows x 489 columns]"
      ]
     },
     "execution_count": 169,
     "metadata": {},
     "output_type": "execute_result"
    }
   ],
   "source": [
    "data.head()"
   ]
  },
  {
   "cell_type": "code",
   "execution_count": 173,
   "metadata": {},
   "outputs": [
    {
     "data": {
      "text/plain": [
       "0"
      ]
     },
     "execution_count": 173,
     "metadata": {},
     "output_type": "execute_result"
    }
   ],
   "source": [
    "data[data['代码']=='000001.SZ'][datetime.datetime(2020,1,2)].values[0]"
   ]
  },
  {
   "cell_type": "code",
   "execution_count": 174,
   "metadata": {},
   "outputs": [
    {
     "data": {
      "text/plain": [
       "{'bid': [],\n",
       " 'ask': [],\n",
       " 'mid': [],\n",
       " 'mean_price': [],\n",
       " 'volume': [],\n",
       " 'qty': [],\n",
       " 'OrderCount': array([0., 0., 0., ..., 0., 0., 0.]),\n",
       " 'OrderQty': array([0., 0., 0., ..., 0., 0., 0.]),\n",
       " 'OrderVol': array([0., 0., 0., ..., 0., 0., 0.]),\n",
       " 'TradeCount': array([0., 0., 0., ..., 0., 0., 0.]),\n",
       " 'TradeQty': array([0., 0., 0., ..., 0., 0., 0.]),\n",
       " 'TradeVol': array([0., 0., 0., ..., 0., 0., 0.]),\n",
       " 'lifetime_ExecQty_wavg': [],\n",
       " 'spread': array([0., 0., 0., ..., 0., 0., 0.]),\n",
       " 'relative_spread': array([0., 0., 0., ..., 0., 0., 0.]),\n",
       " 'wavg_spread_5': array([0., 0., 0., ..., 0., 0., 0.]),\n",
       " 'relative_wavg_spread_5': array([0., 0., 0., ..., 0., 0., 0.]),\n",
       " 'wavg_spread_10': array([0., 0., 0., ..., 0., 0., 0.]),\n",
       " 'relative_wavg_spread_10': array([0., 0., 0., ..., 0., 0., 0.]),\n",
       " 'wavg_spread_20': array([0., 0., 0., ..., 0., 0., 0.]),\n",
       " 'relative_wavg_spread_20': array([0., 0., 0., ..., 0., 0., 0.]),\n",
       " 'wavg_spread_30': array([0., 0., 0., ..., 0., 0., 0.]),\n",
       " 'relative_wavg_spread_30': array([0., 0., 0., ..., 0., 0., 0.]),\n",
       " 'wavg_spread_50': array([0., 0., 0., ..., 0., 0., 0.]),\n",
       " 'relative_wavg_spread_50': array([0., 0., 0., ..., 0., 0., 0.]),\n",
       " 'wavg_spread_75': array([0., 0., 0., ..., 0., 0., 0.]),\n",
       " 'relative_wavg_spread_75': array([0., 0., 0., ..., 0., 0., 0.]),\n",
       " 'wavg_spread_100': array([0., 0., 0., ..., 0., 0., 0.]),\n",
       " 'relative_wavg_spread_100': array([0., 0., 0., ..., 0., 0., 0.]),\n",
       " 'wavg_spread_200': array([0., 0., 0., ..., 0., 0., 0.]),\n",
       " 'relative_wavg_spread_200': array([0., 0., 0., ..., 0., 0., 0.]),\n",
       " 'wavg_spread_300': array([0., 0., 0., ..., 0., 0., 0.]),\n",
       " 'relative_wavg_spread_300': array([0., 0., 0., ..., 0., 0., 0.]),\n",
       " 'wavg_spread_400': array([0., 0., 0., ..., 0., 0., 0.]),\n",
       " 'relative_wavg_spread_400': array([0., 0., 0., ..., 0., 0., 0.]),\n",
       " 'wavg_spread_500': array([0., 0., 0., ..., 0., 0., 0.]),\n",
       " 'relative_wavg_spread_500': array([0., 0., 0., ..., 0., 0., 0.]),\n",
       " 'execute_ratio': [],\n",
       " 'single_price_execute_ratio': [],\n",
       " 'single_trade_execute_ratio': [],\n",
       " 'opt_trade_execute_ratio': []}"
      ]
     },
     "execution_count": 174,
     "metadata": {},
     "output_type": "execute_result"
    }
   ],
   "source": [
    "with open('F:\\\\Documents\\\\学习资料\\\\博士工作\\\\流动性/000016.pkl','rb') as f:\n",
    "    a = pickle.load(f)\n",
    "a"
   ]
  },
  {
   "cell_type": "code",
   "execution_count": 175,
   "metadata": {},
   "outputs": [
    {
     "data": {
      "text/html": [
       "<div>\n",
       "<style scoped>\n",
       "    .dataframe tbody tr th:only-of-type {\n",
       "        vertical-align: middle;\n",
       "    }\n",
       "\n",
       "    .dataframe tbody tr th {\n",
       "        vertical-align: top;\n",
       "    }\n",
       "\n",
       "    .dataframe thead th {\n",
       "        text-align: right;\n",
       "    }\n",
       "</style>\n",
       "<table border=\"1\" class=\"dataframe\">\n",
       "  <thead>\n",
       "    <tr style=\"text-align: right;\">\n",
       "      <th></th>\n",
       "      <th>orig_time</th>\n",
       "      <th>BidSize1</th>\n",
       "      <th>BidSize2</th>\n",
       "      <th>BidSize3</th>\n",
       "      <th>BidSize4</th>\n",
       "      <th>BidSize5</th>\n",
       "      <th>BidSize6</th>\n",
       "      <th>BidSize7</th>\n",
       "      <th>BidSize8</th>\n",
       "      <th>BidSize9</th>\n",
       "      <th>...</th>\n",
       "      <th>wavg_spread_400</th>\n",
       "      <th>relative_wavg_spread_400</th>\n",
       "      <th>wavg_spread_500</th>\n",
       "      <th>relative_wavg_spread_500</th>\n",
       "      <th>OrderCount</th>\n",
       "      <th>OrderQty</th>\n",
       "      <th>OrderVol</th>\n",
       "      <th>TradeCount</th>\n",
       "      <th>TradeQty</th>\n",
       "      <th>TradeVol</th>\n",
       "    </tr>\n",
       "  </thead>\n",
       "  <tbody>\n",
       "    <tr>\n",
       "      <th>0</th>\n",
       "      <td>2020-01-02 09:30:03</td>\n",
       "      <td>500.0</td>\n",
       "      <td>1600.0</td>\n",
       "      <td>5000.0</td>\n",
       "      <td>3600.0</td>\n",
       "      <td>500.0</td>\n",
       "      <td>1900.0</td>\n",
       "      <td>15200.0</td>\n",
       "      <td>7100.0</td>\n",
       "      <td>30100.0</td>\n",
       "      <td>...</td>\n",
       "      <td>0.198964</td>\n",
       "      <td>0.012165</td>\n",
       "      <td>0.198964</td>\n",
       "      <td>0.012165</td>\n",
       "      <td>50</td>\n",
       "      <td>65620</td>\n",
       "      <td>1091768.6</td>\n",
       "      <td>18</td>\n",
       "      <td>9300</td>\n",
       "      <td>151892.0</td>\n",
       "    </tr>\n",
       "    <tr>\n",
       "      <th>1</th>\n",
       "      <td>2020-01-02 09:30:06</td>\n",
       "      <td>1000.0</td>\n",
       "      <td>2300.0</td>\n",
       "      <td>500.0</td>\n",
       "      <td>4700.0</td>\n",
       "      <td>15200.0</td>\n",
       "      <td>7100.0</td>\n",
       "      <td>24400.0</td>\n",
       "      <td>1500.0</td>\n",
       "      <td>2300.0</td>\n",
       "      <td>...</td>\n",
       "      <td>0.219989</td>\n",
       "      <td>0.013455</td>\n",
       "      <td>0.219989</td>\n",
       "      <td>0.013455</td>\n",
       "      <td>15</td>\n",
       "      <td>25700</td>\n",
       "      <td>423271.0</td>\n",
       "      <td>12</td>\n",
       "      <td>11700</td>\n",
       "      <td>191121.0</td>\n",
       "    </tr>\n",
       "    <tr>\n",
       "      <th>2</th>\n",
       "      <td>2020-01-02 09:30:09</td>\n",
       "      <td>600.0</td>\n",
       "      <td>1000.0</td>\n",
       "      <td>200.0</td>\n",
       "      <td>2300.0</td>\n",
       "      <td>500.0</td>\n",
       "      <td>10700.0</td>\n",
       "      <td>15200.0</td>\n",
       "      <td>7100.0</td>\n",
       "      <td>24400.0</td>\n",
       "      <td>...</td>\n",
       "      <td>0.226032</td>\n",
       "      <td>0.013808</td>\n",
       "      <td>0.226032</td>\n",
       "      <td>0.013808</td>\n",
       "      <td>13</td>\n",
       "      <td>43860</td>\n",
       "      <td>763069.0</td>\n",
       "      <td>1</td>\n",
       "      <td>300</td>\n",
       "      <td>4908.0</td>\n",
       "    </tr>\n",
       "    <tr>\n",
       "      <th>3</th>\n",
       "      <td>2020-01-02 09:30:12</td>\n",
       "      <td>1000.0</td>\n",
       "      <td>1900.0</td>\n",
       "      <td>6000.0</td>\n",
       "      <td>200.0</td>\n",
       "      <td>2300.0</td>\n",
       "      <td>500.0</td>\n",
       "      <td>10700.0</td>\n",
       "      <td>15200.0</td>\n",
       "      <td>1300.0</td>\n",
       "      <td>...</td>\n",
       "      <td>0.212810</td>\n",
       "      <td>0.012988</td>\n",
       "      <td>0.212810</td>\n",
       "      <td>0.012988</td>\n",
       "      <td>7</td>\n",
       "      <td>10900</td>\n",
       "      <td>178664.0</td>\n",
       "      <td>3</td>\n",
       "      <td>2300</td>\n",
       "      <td>37674.0</td>\n",
       "    </tr>\n",
       "    <tr>\n",
       "      <th>4</th>\n",
       "      <td>2020-01-02 09:30:18</td>\n",
       "      <td>1900.0</td>\n",
       "      <td>6000.0</td>\n",
       "      <td>200.0</td>\n",
       "      <td>2300.0</td>\n",
       "      <td>500.0</td>\n",
       "      <td>10700.0</td>\n",
       "      <td>15200.0</td>\n",
       "      <td>1600.0</td>\n",
       "      <td>7100.0</td>\n",
       "      <td>...</td>\n",
       "      <td>0.234362</td>\n",
       "      <td>0.014312</td>\n",
       "      <td>0.234362</td>\n",
       "      <td>0.014312</td>\n",
       "      <td>3</td>\n",
       "      <td>2200</td>\n",
       "      <td>36398.0</td>\n",
       "      <td>2</td>\n",
       "      <td>1400</td>\n",
       "      <td>22936.0</td>\n",
       "    </tr>\n",
       "    <tr>\n",
       "      <th>...</th>\n",
       "      <td>...</td>\n",
       "      <td>...</td>\n",
       "      <td>...</td>\n",
       "      <td>...</td>\n",
       "      <td>...</td>\n",
       "      <td>...</td>\n",
       "      <td>...</td>\n",
       "      <td>...</td>\n",
       "      <td>...</td>\n",
       "      <td>...</td>\n",
       "      <td>...</td>\n",
       "      <td>...</td>\n",
       "      <td>...</td>\n",
       "      <td>...</td>\n",
       "      <td>...</td>\n",
       "      <td>...</td>\n",
       "      <td>...</td>\n",
       "      <td>...</td>\n",
       "      <td>...</td>\n",
       "      <td>...</td>\n",
       "      <td>...</td>\n",
       "    </tr>\n",
       "    <tr>\n",
       "      <th>2599</th>\n",
       "      <td>2020-01-02 14:56:48</td>\n",
       "      <td>2500.0</td>\n",
       "      <td>2700.0</td>\n",
       "      <td>3400.0</td>\n",
       "      <td>1100.0</td>\n",
       "      <td>4700.0</td>\n",
       "      <td>200.0</td>\n",
       "      <td>200.0</td>\n",
       "      <td>1400.0</td>\n",
       "      <td>1500.0</td>\n",
       "      <td>...</td>\n",
       "      <td>0.067668</td>\n",
       "      <td>0.003986</td>\n",
       "      <td>0.067668</td>\n",
       "      <td>0.003986</td>\n",
       "      <td>3</td>\n",
       "      <td>20700</td>\n",
       "      <td>351686.0</td>\n",
       "      <td>1</td>\n",
       "      <td>200</td>\n",
       "      <td>3396.0</td>\n",
       "    </tr>\n",
       "    <tr>\n",
       "      <th>2600</th>\n",
       "      <td>2020-01-02 14:56:51</td>\n",
       "      <td>2500.0</td>\n",
       "      <td>2700.0</td>\n",
       "      <td>2800.0</td>\n",
       "      <td>1100.0</td>\n",
       "      <td>4700.0</td>\n",
       "      <td>200.0</td>\n",
       "      <td>200.0</td>\n",
       "      <td>1400.0</td>\n",
       "      <td>1500.0</td>\n",
       "      <td>...</td>\n",
       "      <td>0.067982</td>\n",
       "      <td>0.004005</td>\n",
       "      <td>0.067982</td>\n",
       "      <td>0.004005</td>\n",
       "      <td>2</td>\n",
       "      <td>2100</td>\n",
       "      <td>35645.0</td>\n",
       "      <td>0</td>\n",
       "      <td>0</td>\n",
       "      <td>0.0</td>\n",
       "    </tr>\n",
       "    <tr>\n",
       "      <th>2601</th>\n",
       "      <td>2020-01-02 14:56:54</td>\n",
       "      <td>3800.0</td>\n",
       "      <td>2700.0</td>\n",
       "      <td>2800.0</td>\n",
       "      <td>1100.0</td>\n",
       "      <td>4700.0</td>\n",
       "      <td>200.0</td>\n",
       "      <td>200.0</td>\n",
       "      <td>1400.0</td>\n",
       "      <td>1500.0</td>\n",
       "      <td>...</td>\n",
       "      <td>0.065639</td>\n",
       "      <td>0.003867</td>\n",
       "      <td>0.065639</td>\n",
       "      <td>0.003867</td>\n",
       "      <td>3</td>\n",
       "      <td>1100</td>\n",
       "      <td>18678.0</td>\n",
       "      <td>3</td>\n",
       "      <td>700</td>\n",
       "      <td>11886.0</td>\n",
       "    </tr>\n",
       "    <tr>\n",
       "      <th>2602</th>\n",
       "      <td>2020-01-02 14:56:57</td>\n",
       "      <td>4200.0</td>\n",
       "      <td>2700.0</td>\n",
       "      <td>2800.0</td>\n",
       "      <td>1100.0</td>\n",
       "      <td>4700.0</td>\n",
       "      <td>200.0</td>\n",
       "      <td>200.0</td>\n",
       "      <td>1400.0</td>\n",
       "      <td>1500.0</td>\n",
       "      <td>...</td>\n",
       "      <td>0.064990</td>\n",
       "      <td>0.003829</td>\n",
       "      <td>0.064990</td>\n",
       "      <td>0.003829</td>\n",
       "      <td>4</td>\n",
       "      <td>7000</td>\n",
       "      <td>118846.0</td>\n",
       "      <td>4</td>\n",
       "      <td>2300</td>\n",
       "      <td>39049.0</td>\n",
       "    </tr>\n",
       "    <tr>\n",
       "      <th>2603</th>\n",
       "      <td>2020-01-02 14:57:00</td>\n",
       "      <td>3000.0</td>\n",
       "      <td>4200.0</td>\n",
       "      <td>2700.0</td>\n",
       "      <td>2800.0</td>\n",
       "      <td>1100.0</td>\n",
       "      <td>4700.0</td>\n",
       "      <td>200.0</td>\n",
       "      <td>200.0</td>\n",
       "      <td>1400.0</td>\n",
       "      <td>...</td>\n",
       "      <td>0.059254</td>\n",
       "      <td>0.003489</td>\n",
       "      <td>0.059254</td>\n",
       "      <td>0.003489</td>\n",
       "      <td>2</td>\n",
       "      <td>700</td>\n",
       "      <td>11884.0</td>\n",
       "      <td>2</td>\n",
       "      <td>700</td>\n",
       "      <td>11886.0</td>\n",
       "    </tr>\n",
       "  </tbody>\n",
       "</table>\n",
       "<p>2604 rows × 97 columns</p>\n",
       "</div>"
      ],
      "text/plain": [
       "                orig_time  BidSize1  BidSize2  BidSize3  BidSize4  BidSize5  \\\n",
       "0     2020-01-02 09:30:03     500.0    1600.0    5000.0    3600.0     500.0   \n",
       "1     2020-01-02 09:30:06    1000.0    2300.0     500.0    4700.0   15200.0   \n",
       "2     2020-01-02 09:30:09     600.0    1000.0     200.0    2300.0     500.0   \n",
       "3     2020-01-02 09:30:12    1000.0    1900.0    6000.0     200.0    2300.0   \n",
       "4     2020-01-02 09:30:18    1900.0    6000.0     200.0    2300.0     500.0   \n",
       "...                   ...       ...       ...       ...       ...       ...   \n",
       "2599  2020-01-02 14:56:48    2500.0    2700.0    3400.0    1100.0    4700.0   \n",
       "2600  2020-01-02 14:56:51    2500.0    2700.0    2800.0    1100.0    4700.0   \n",
       "2601  2020-01-02 14:56:54    3800.0    2700.0    2800.0    1100.0    4700.0   \n",
       "2602  2020-01-02 14:56:57    4200.0    2700.0    2800.0    1100.0    4700.0   \n",
       "2603  2020-01-02 14:57:00    3000.0    4200.0    2700.0    2800.0    1100.0   \n",
       "\n",
       "      BidSize6  BidSize7  BidSize8  BidSize9  ...  wavg_spread_400  \\\n",
       "0       1900.0   15200.0    7100.0   30100.0  ...         0.198964   \n",
       "1       7100.0   24400.0    1500.0    2300.0  ...         0.219989   \n",
       "2      10700.0   15200.0    7100.0   24400.0  ...         0.226032   \n",
       "3        500.0   10700.0   15200.0    1300.0  ...         0.212810   \n",
       "4      10700.0   15200.0    1600.0    7100.0  ...         0.234362   \n",
       "...        ...       ...       ...       ...  ...              ...   \n",
       "2599     200.0     200.0    1400.0    1500.0  ...         0.067668   \n",
       "2600     200.0     200.0    1400.0    1500.0  ...         0.067982   \n",
       "2601     200.0     200.0    1400.0    1500.0  ...         0.065639   \n",
       "2602     200.0     200.0    1400.0    1500.0  ...         0.064990   \n",
       "2603    4700.0     200.0     200.0    1400.0  ...         0.059254   \n",
       "\n",
       "      relative_wavg_spread_400  wavg_spread_500  relative_wavg_spread_500  \\\n",
       "0                     0.012165         0.198964                  0.012165   \n",
       "1                     0.013455         0.219989                  0.013455   \n",
       "2                     0.013808         0.226032                  0.013808   \n",
       "3                     0.012988         0.212810                  0.012988   \n",
       "4                     0.014312         0.234362                  0.014312   \n",
       "...                        ...              ...                       ...   \n",
       "2599                  0.003986         0.067668                  0.003986   \n",
       "2600                  0.004005         0.067982                  0.004005   \n",
       "2601                  0.003867         0.065639                  0.003867   \n",
       "2602                  0.003829         0.064990                  0.003829   \n",
       "2603                  0.003489         0.059254                  0.003489   \n",
       "\n",
       "      OrderCount  OrderQty   OrderVol  TradeCount  TradeQty  TradeVol  \n",
       "0             50     65620  1091768.6          18      9300  151892.0  \n",
       "1             15     25700   423271.0          12     11700  191121.0  \n",
       "2             13     43860   763069.0           1       300    4908.0  \n",
       "3              7     10900   178664.0           3      2300   37674.0  \n",
       "4              3      2200    36398.0           2      1400   22936.0  \n",
       "...          ...       ...        ...         ...       ...       ...  \n",
       "2599           3     20700   351686.0           1       200    3396.0  \n",
       "2600           2      2100    35645.0           0         0       0.0  \n",
       "2601           3      1100    18678.0           3       700   11886.0  \n",
       "2602           4      7000   118846.0           4      2300   39049.0  \n",
       "2603           2       700    11884.0           2       700   11886.0  \n",
       "\n",
       "[2604 rows x 97 columns]"
      ]
     },
     "execution_count": 175,
     "metadata": {},
     "output_type": "execute_result"
    }
   ],
   "source": [
    "data = pd.read_csv('F:\\\\Documents\\\\学习资料\\\\博士工作\\\\流动性/snapshot.csv')\n",
    "data"
   ]
  },
  {
   "cell_type": "code",
   "execution_count": 139,
   "metadata": {},
   "outputs": [
    {
     "data": {
      "text/plain": [
       "4740"
      ]
     },
     "execution_count": 139,
     "metadata": {},
     "output_type": "execute_result"
    }
   ],
   "source": [
    "index = [datetime.datetime(2020, 1, 1, 9, 30, 3) + datetime.timedelta(seconds=3 * i) for i in range(2400)]\n",
    "index += [datetime.datetime(2020, 1, 1, 13, 0, 0) + datetime.timedelta(seconds=3 * i) for i in range(1, 2341)]\n",
    "len(index)"
   ]
  },
  {
   "cell_type": "code",
   "execution_count": 84,
   "metadata": {},
   "outputs": [
    {
     "name": "stdout",
     "output_type": "stream",
     "text": [
      "done with 0.0000s\n"
     ]
    },
    {
     "data": {
      "text/plain": [
       "10.0"
      ]
     },
     "execution_count": 84,
     "metadata": {},
     "output_type": "execute_result"
    }
   ],
   "source": [
    "g = {}\n",
    "g[1] = [2,3]\n",
    "g[2] = [1,3,4]\n",
    "g[3] = [1,2,4,5]\n",
    "g[4] = [2,3,5,6]\n",
    "g[5] = [3,4]\n",
    "g[6] = [4]\n",
    "w = {}\n",
    "w[(1,2)] = 5\n",
    "w[(1,3)] = 1\n",
    "w[(2,3)] = 2\n",
    "w[(2,4)] = 1\n",
    "w[(3,4)] = 4\n",
    "w[(3,5)] = 8\n",
    "w[(4,5)] = 3\n",
    "w[(4,6)] = 6\n",
    "kk = list(w.keys())\n",
    "for k in kk:\n",
    "    w[(k[1],k[0])] = w[k]\n",
    "heap_dijkstra(g,w,1,6)"
   ]
  },
  {
   "cell_type": "code",
   "execution_count": 2,
   "metadata": {
    "scrolled": true
   },
   "outputs": [],
   "source": [
    "sys.path.append('..')\n",
    "import dataloader\n",
    "importlib.reload(dataloader)\n",
    "from dataloader import DataLoader\n",
    "importlib.reload(DataLoader)\n",
    "DL = DataLoader.DataLoader()\n",
    "# DL.process_raw_data()"
   ]
  },
  {
   "cell_type": "code",
   "execution_count": 20,
   "metadata": {
    "scrolled": true
   },
   "outputs": [
    {
     "data": {
      "text/html": [
       "<div>\n",
       "<style scoped>\n",
       "    .dataframe tbody tr th:only-of-type {\n",
       "        vertical-align: middle;\n",
       "    }\n",
       "\n",
       "    .dataframe tbody tr th {\n",
       "        vertical-align: top;\n",
       "    }\n",
       "\n",
       "    .dataframe thead th {\n",
       "        text-align: right;\n",
       "    }\n",
       "</style>\n",
       "<table border=\"1\" class=\"dataframe\">\n",
       "  <thead>\n",
       "    <tr style=\"text-align: right;\">\n",
       "      <th></th>\n",
       "      <th>0</th>\n",
       "      <th>1</th>\n",
       "    </tr>\n",
       "  </thead>\n",
       "  <tbody>\n",
       "    <tr>\n",
       "      <th>0</th>\n",
       "      <td>1</td>\n",
       "      <td>1</td>\n",
       "    </tr>\n",
       "    <tr>\n",
       "      <th>1</th>\n",
       "      <td>2</td>\n",
       "      <td>2</td>\n",
       "    </tr>\n",
       "  </tbody>\n",
       "</table>\n",
       "</div>"
      ],
      "text/plain": [
       "   0  1\n",
       "0  1  1\n",
       "1  2  2"
      ]
     },
     "execution_count": 20,
     "metadata": {},
     "output_type": "execute_result"
    }
   ],
   "source": [
    "pd.DataFrame(np.array([np.array([1,2]),np.array([1,2])]).T)"
   ]
  },
  {
   "cell_type": "code",
   "execution_count": 7,
   "metadata": {
    "scrolled": false
   },
   "outputs": [
    {
     "data": {
      "text/plain": [
       "(8, 128)"
      ]
     },
     "execution_count": 7,
     "metadata": {},
     "output_type": "execute_result"
    }
   ],
   "source": [
    "DL.train_data[0]['chord'].shape"
   ]
  },
  {
   "cell_type": "code",
   "execution_count": 11,
   "metadata": {},
   "outputs": [],
   "source": [
    "a = DL.train_data[1]['chord']"
   ]
  },
  {
   "cell_type": "code",
   "execution_count": 12,
   "metadata": {
    "scrolled": true
   },
   "outputs": [
    {
     "data": {
      "text/plain": [
       "array([  0,   0,   0,   0,   0,   0,   0,   0,   0,   0,   0,   0,   0,\n",
       "         0,   0,   0,   0,   0,   0,   0,   0,   0,   0,   0,   0,   0,\n",
       "         0,   0,   0,   0,   0,   0,   0,   0,   0,   0,   0,   0,   0,\n",
       "         0,   0,   0,   0,   0,   0, 100,   0,   0, 100,   0,   0,   0,\n",
       "       100,   0,   0,   0,   0,   0,   0,   0,   0,   0,   0,   0,   0,\n",
       "         0,   0,   0,   0,   0,   0,   0,   0,   0,   0,   0,   0,   0,\n",
       "         0,   0,   0,   0,   0,   0,   0,   0,   0,   0,   0,   0,   0,\n",
       "         0,   0,   0,   0,   0,   0,   0,   0,   0,   0,   0,   0,   0,\n",
       "         0,   0,   0,   0,   0,   0,   0,   0,   0,   0,   0,   0,   0,\n",
       "         0,   0,   0,   0,   0,   0,   0,   0,   0,   0,   0], dtype=uint8)"
      ]
     },
     "execution_count": 12,
     "metadata": {},
     "output_type": "execute_result"
    }
   ],
   "source": [
    "a[0]"
   ]
  },
  {
   "cell_type": "code",
   "execution_count": 13,
   "metadata": {},
   "outputs": [
    {
     "data": {
      "text/plain": [
       "[<matplotlib.lines.Line2D at 0x2168f7fbdc0>]"
      ]
     },
     "execution_count": 13,
     "metadata": {},
     "output_type": "execute_result"
    },
    {
     "data": {
      "image/png": "[encoded data removed]",
      "text/plain": [
       "<Figure size 432x288 with 1 Axes>"
      ]
     },
     "metadata": {
      "needs_background": "light"
     },
     "output_type": "display_data"
    }
   ],
   "source": [
    "plt.plot(np.sum(a,axis=1))"
   ]
  },
  {
   "cell_type": "code",
   "execution_count": 15,
   "metadata": {
    "scrolled": true
   },
   "outputs": [
    {
     "data": {
      "text/plain": [
       "array([768, 128], dtype=int64)"
      ]
     },
     "execution_count": 15,
     "metadata": {},
     "output_type": "execute_result"
    }
   ],
   "source": [
    "a['pianoroll_0_csc_shape']"
   ]
  },
  {
   "cell_type": "code",
   "execution_count": 33,
   "metadata": {},
   "outputs": [
    {
     "name": "stdout",
     "output_type": "stream",
     "text": [
      "Multitrack(name=None, resolution=24, tempo=array(shape=(888, 1), dtype=float64), downbeat=array(shape=(888, 1), dtype=bool), tracks=[StandardTrack(name='', program=0, is_drum=False, pianoroll=array(shape=(888, 128), dtype=uint8)), StandardTrack(name='', program=0, is_drum=False, pianoroll=array(shape=(888, 128), dtype=uint8))])\n"
     ]
    }
   ],
   "source": [
    "multitrack = pr.read(\"F:\\\\Documents\\\\学习资料\\\\自动配和弦\\\\datasets\\\\pianoroll\\\\a\\\\above-and-beyond\\\\always/chorus_key.mid\")\n",
    "print(multitrack)"
   ]
  },
  {
   "cell_type": "code",
   "execution_count": 40,
   "metadata": {},
   "outputs": [
    {
     "name": "stdout",
     "output_type": "stream",
     "text": [
      "Multitrack(name=None, resolution=24, tempo=array(shape=(888, 1), dtype=float64), downbeat=array(shape=(888, 1), dtype=bool), tracks=[StandardTrack(name='', program=0, is_drum=False, pianoroll=array(shape=(888, 128), dtype=uint8)), StandardTrack(name='', program=0, is_drum=False, pianoroll=array(shape=(888, 128), dtype=uint8))])\n"
     ]
    }
   ],
   "source": [
    "multitrack = pr.read(\"F:\\\\Documents\\\\学习资料\\\\自动配和弦\\\\datasets\\\\pianoroll\\\\a\\\\above-and-beyond\\\\always/chorus_nokey.mid\")\n",
    "print(multitrack)"
   ]
  },
  {
   "cell_type": "code",
   "execution_count": 39,
   "metadata": {},
   "outputs": [
    {
     "data": {
      "text/plain": [
       "[<matplotlib.lines.Line2D at 0x1e5cfe13190>]"
      ]
     },
     "execution_count": 39,
     "metadata": {},
     "output_type": "execute_result"
    },
    {
     "data": {
      "image/png": "[encoded data removed]",
      "text/plain": [
       "<Figure size 432x288 with 1 Axes>"
      ]
     },
     "metadata": {
      "needs_background": "light"
     },
     "output_type": "display_data"
    }
   ],
   "source": [
    "plt.plot(multitrack.tracks[0].pianoroll[97])"
   ]
  },
  {
   "cell_type": "code",
   "execution_count": null,
   "metadata": {},
   "outputs": [],
   "source": []
  }
 ],
 "metadata": {
  "kernelspec": {
   "display_name": "Python 3",
   "language": "python",
   "name": "python3"
  },
  "language_info": {
   "codemirror_mode": {
    "name": "ipython",
    "version": 3
   },
   "file_extension": ".py",
   "mimetype": "text/x-python",
   "name": "python",
   "nbconvert_exporter": "python",
   "pygments_lexer": "ipython3",
   "version": "3.8.5"
  }
 },
 "nbformat": 4,
 "nbformat_minor": 4
}
